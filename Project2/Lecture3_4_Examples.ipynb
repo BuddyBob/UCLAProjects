{
 "cells": [
  {
   "cell_type": "markdown",
   "id": "92caa75c",
   "metadata": {},
   "source": [
    "# Lecture 3 & 4 Examples\n",
    "**UCLA, Econ 10P: Introduction to Python for Economists**   \n",
    "**Dr. Randall R. Rojas**"
   ]
  },
  {
   "cell_type": "markdown",
   "id": "dc068002",
   "metadata": {},
   "source": [
    " # I. File Operations, Modules &  Methods\n",
    " Note: For reading/writing files, we will cover it in  more detail when we introduce the `pandas` library."
   ]
  },
  {
   "cell_type": "markdown",
   "id": "88211728",
   "metadata": {},
   "source": [
    "1. Import the datafile `wage1` from the Wooldridge library, and explore its contents. Use the functions `type`, `head`, `tail`, `describe`, and so on to better understand the variables. To get a more quantitative insight, compute statistical measures such as the  mean, median, standard deviation, etc."
   ]
  },
  {
   "cell_type": "markdown",
   "id": "16c6c60b",
   "metadata": {},
   "source": [
    "2. For this example, we will import the daily stock prices and volume of Apple and Amazon. We will then compute a couple of statistical measures, and figure out which company has yielded a higher return between 2017 and 2022."
   ]
  },
  {
   "cell_type": "code",
   "execution_count": 1,
   "id": "161a3c92",
   "metadata": {},
   "outputs": [],
   "source": [
    "import pandas as pd\n",
    "import pandas_datareader.data as web\n",
    "# Get stock data from Yahoo \n",
    "all_data = {ticker: web.get_data_yahoo(ticker)\n",
    "           for ticker in ['AAPL', 'AMZN', 'TSLA']}"
   ]
  },
  {
   "cell_type": "code",
   "execution_count": 2,
   "id": "9f756eaa",
   "metadata": {},
   "outputs": [
    {
     "data": {
      "text/plain": [
       "{'AAPL':                   High         Low        Open       Close       Volume  \\\n",
       " Date                                                                      \n",
       " 2017-08-01   37.555000   37.102501   37.275002   37.512501  141474400.0   \n",
       " 2017-08-02   39.937500   39.040001   39.820000   39.285000  279747200.0   \n",
       " 2017-08-03   39.302502   38.755001   39.262501   38.892502  108389200.0   \n",
       " 2017-08-04   39.349998   38.922501   39.017502   39.097500   82239600.0   \n",
       " 2017-08-07   39.730000   39.167500   39.264999   39.702499   87481200.0   \n",
       " ...                ...         ...         ...         ...          ...   \n",
       " 2022-07-25  155.039993  152.279999  154.009995  152.949997   53623900.0   \n",
       " 2022-07-26  153.089996  150.800003  152.259995  151.600006   55138700.0   \n",
       " 2022-07-27  157.330002  152.160004  152.580002  156.789993   78620700.0   \n",
       " 2022-07-28  157.639999  154.410004  156.979996  157.350006   81378700.0   \n",
       " 2022-07-29  163.630005  159.500000  161.240005  162.509995  101689200.0   \n",
       " \n",
       "              Adj Close  \n",
       " Date                    \n",
       " 2017-08-01   35.511818  \n",
       " 2017-08-02   37.189774  \n",
       " 2017-08-03   36.818211  \n",
       " 2017-08-04   37.012287  \n",
       " 2017-08-07   37.585011  \n",
       " ...                ...  \n",
       " 2022-07-25  152.949997  \n",
       " 2022-07-26  151.600006  \n",
       " 2022-07-27  156.789993  \n",
       " 2022-07-28  157.350006  \n",
       " 2022-07-29  162.509995  \n",
       " \n",
       " [1258 rows x 6 columns],\n",
       " 'AMZN':                   High         Low        Open       Close       Volume  \\\n",
       " Date                                                                      \n",
       " 2017-08-01   50.320000   49.578999   49.805500   49.809502   91452000.0   \n",
       " 2017-08-02   50.160500   49.086498   50.088501   49.794498   81400000.0   \n",
       " 2017-08-03   49.974998   49.229500   49.973499   49.346001   65116000.0   \n",
       " 2017-08-04   49.583500   49.099998   49.484001   49.379002   54606000.0   \n",
       " 2017-08-07   49.750000   49.356998   49.532501   49.613499   53532000.0   \n",
       " ...                ...         ...         ...         ...          ...   \n",
       " 2022-07-25  123.639999  120.029999  122.699997  121.139999   50221300.0   \n",
       " 2022-07-26  118.150002  114.529999  115.790001  114.809998   67075100.0   \n",
       " 2022-07-27  121.900002  117.160004  117.309998  120.970001   61582000.0   \n",
       " 2022-07-28  122.839996  118.080002  121.570000  122.279999   82245500.0   \n",
       " 2022-07-29  137.649994  132.410004  134.899994  134.949997  148715600.0   \n",
       " \n",
       "              Adj Close  \n",
       " Date                    \n",
       " 2017-08-01   49.809502  \n",
       " 2017-08-02   49.794498  \n",
       " 2017-08-03   49.346001  \n",
       " 2017-08-04   49.379002  \n",
       " 2017-08-07   49.613499  \n",
       " ...                ...  \n",
       " 2022-07-25  121.139999  \n",
       " 2022-07-26  114.809998  \n",
       " 2022-07-27  120.970001  \n",
       " 2022-07-28  122.279999  \n",
       " 2022-07-29  134.949997  \n",
       " \n",
       " [1258 rows x 6 columns],\n",
       " 'TSLA':                   High         Low        Open       Close      Volume  \\\n",
       " Date                                                                     \n",
       " 2017-08-01   64.889999   63.226002   64.599998   63.914001  41515500.0   \n",
       " 2017-08-02   65.424004   62.243999   63.787998   65.178001  65457500.0   \n",
       " 2017-08-03   70.000000   68.629997   69.066002   69.417999  67675000.0   \n",
       " 2017-08-04   71.454002   68.660004   69.400002   71.382004  46344500.0   \n",
       " 2017-08-07   71.896004   70.550003   71.470001   71.033997  31622500.0   \n",
       " ...                ...         ...         ...         ...         ...   \n",
       " 2022-07-25  822.440002  802.200012  816.650024  805.299988  21357800.0   \n",
       " 2022-07-26  801.929993  768.789978  799.539978  776.580017  22273600.0   \n",
       " 2022-07-27  827.780029  785.369995  791.429993  824.460022  29370000.0   \n",
       " 2022-07-28  849.900024  818.400024  840.200012  842.700012  28241000.0   \n",
       " 2022-07-29  894.960022  837.299988  842.099976  891.450012  31699000.0   \n",
       " \n",
       "              Adj Close  \n",
       " Date                    \n",
       " 2017-08-01   63.914001  \n",
       " 2017-08-02   65.178001  \n",
       " 2017-08-03   69.417999  \n",
       " 2017-08-04   71.382004  \n",
       " 2017-08-07   71.033997  \n",
       " ...                ...  \n",
       " 2022-07-25  805.299988  \n",
       " 2022-07-26  776.580017  \n",
       " 2022-07-27  824.460022  \n",
       " 2022-07-28  842.700012  \n",
       " 2022-07-29  891.450012  \n",
       " \n",
       " [1258 rows x 6 columns]}"
      ]
     },
     "execution_count": 2,
     "metadata": {},
     "output_type": "execute_result"
    }
   ],
   "source": [
    "# Examine the contents of the datafile\n",
    "all_data"
   ]
  },
  {
   "cell_type": "code",
   "execution_count": 3,
   "id": "5248105e",
   "metadata": {},
   "outputs": [],
   "source": [
    "# Look at APPL's data and check the start and end dates"
   ]
  },
  {
   "cell_type": "code",
   "execution_count": 4,
   "id": "d5cf12df",
   "metadata": {},
   "outputs": [
    {
     "data": {
      "text/html": [
       "<div>\n",
       "<style scoped>\n",
       "    .dataframe tbody tr th:only-of-type {\n",
       "        vertical-align: middle;\n",
       "    }\n",
       "\n",
       "    .dataframe tbody tr th {\n",
       "        vertical-align: top;\n",
       "    }\n",
       "\n",
       "    .dataframe thead th {\n",
       "        text-align: right;\n",
       "    }\n",
       "</style>\n",
       "<table border=\"1\" class=\"dataframe\">\n",
       "  <thead>\n",
       "    <tr style=\"text-align: right;\">\n",
       "      <th></th>\n",
       "      <th>High</th>\n",
       "      <th>Low</th>\n",
       "      <th>Open</th>\n",
       "      <th>Close</th>\n",
       "      <th>Volume</th>\n",
       "      <th>Adj Close</th>\n",
       "    </tr>\n",
       "    <tr>\n",
       "      <th>Date</th>\n",
       "      <th></th>\n",
       "      <th></th>\n",
       "      <th></th>\n",
       "      <th></th>\n",
       "      <th></th>\n",
       "      <th></th>\n",
       "    </tr>\n",
       "  </thead>\n",
       "  <tbody>\n",
       "    <tr>\n",
       "      <th>2017-08-01</th>\n",
       "      <td>37.555000</td>\n",
       "      <td>37.102501</td>\n",
       "      <td>37.275002</td>\n",
       "      <td>37.512501</td>\n",
       "      <td>141474400.0</td>\n",
       "      <td>35.511818</td>\n",
       "    </tr>\n",
       "    <tr>\n",
       "      <th>2017-08-02</th>\n",
       "      <td>39.937500</td>\n",
       "      <td>39.040001</td>\n",
       "      <td>39.820000</td>\n",
       "      <td>39.285000</td>\n",
       "      <td>279747200.0</td>\n",
       "      <td>37.189774</td>\n",
       "    </tr>\n",
       "    <tr>\n",
       "      <th>2017-08-03</th>\n",
       "      <td>39.302502</td>\n",
       "      <td>38.755001</td>\n",
       "      <td>39.262501</td>\n",
       "      <td>38.892502</td>\n",
       "      <td>108389200.0</td>\n",
       "      <td>36.818211</td>\n",
       "    </tr>\n",
       "    <tr>\n",
       "      <th>2017-08-04</th>\n",
       "      <td>39.349998</td>\n",
       "      <td>38.922501</td>\n",
       "      <td>39.017502</td>\n",
       "      <td>39.097500</td>\n",
       "      <td>82239600.0</td>\n",
       "      <td>37.012287</td>\n",
       "    </tr>\n",
       "    <tr>\n",
       "      <th>2017-08-07</th>\n",
       "      <td>39.730000</td>\n",
       "      <td>39.167500</td>\n",
       "      <td>39.264999</td>\n",
       "      <td>39.702499</td>\n",
       "      <td>87481200.0</td>\n",
       "      <td>37.585011</td>\n",
       "    </tr>\n",
       "  </tbody>\n",
       "</table>\n",
       "</div>"
      ],
      "text/plain": [
       "                 High        Low       Open      Close       Volume  Adj Close\n",
       "Date                                                                          \n",
       "2017-08-01  37.555000  37.102501  37.275002  37.512501  141474400.0  35.511818\n",
       "2017-08-02  39.937500  39.040001  39.820000  39.285000  279747200.0  37.189774\n",
       "2017-08-03  39.302502  38.755001  39.262501  38.892502  108389200.0  36.818211\n",
       "2017-08-04  39.349998  38.922501  39.017502  39.097500   82239600.0  37.012287\n",
       "2017-08-07  39.730000  39.167500  39.264999  39.702499   87481200.0  37.585011"
      ]
     },
     "execution_count": 4,
     "metadata": {},
     "output_type": "execute_result"
    }
   ],
   "source": [
    "# Start date\n",
    "all_data['AAPL'].head()"
   ]
  },
  {
   "cell_type": "code",
   "execution_count": 5,
   "id": "45478f04",
   "metadata": {},
   "outputs": [
    {
     "data": {
      "text/html": [
       "<div>\n",
       "<style scoped>\n",
       "    .dataframe tbody tr th:only-of-type {\n",
       "        vertical-align: middle;\n",
       "    }\n",
       "\n",
       "    .dataframe tbody tr th {\n",
       "        vertical-align: top;\n",
       "    }\n",
       "\n",
       "    .dataframe thead th {\n",
       "        text-align: right;\n",
       "    }\n",
       "</style>\n",
       "<table border=\"1\" class=\"dataframe\">\n",
       "  <thead>\n",
       "    <tr style=\"text-align: right;\">\n",
       "      <th></th>\n",
       "      <th>AAPL</th>\n",
       "      <th>AMZN</th>\n",
       "      <th>TSLA</th>\n",
       "    </tr>\n",
       "    <tr>\n",
       "      <th>Date</th>\n",
       "      <th></th>\n",
       "      <th></th>\n",
       "      <th></th>\n",
       "    </tr>\n",
       "  </thead>\n",
       "  <tbody>\n",
       "    <tr>\n",
       "      <th>2017-08-01</th>\n",
       "      <td>35.511818</td>\n",
       "      <td>49.809502</td>\n",
       "      <td>63.914001</td>\n",
       "    </tr>\n",
       "    <tr>\n",
       "      <th>2017-08-02</th>\n",
       "      <td>37.189774</td>\n",
       "      <td>49.794498</td>\n",
       "      <td>65.178001</td>\n",
       "    </tr>\n",
       "    <tr>\n",
       "      <th>2017-08-03</th>\n",
       "      <td>36.818211</td>\n",
       "      <td>49.346001</td>\n",
       "      <td>69.417999</td>\n",
       "    </tr>\n",
       "    <tr>\n",
       "      <th>2017-08-04</th>\n",
       "      <td>37.012287</td>\n",
       "      <td>49.379002</td>\n",
       "      <td>71.382004</td>\n",
       "    </tr>\n",
       "    <tr>\n",
       "      <th>2017-08-07</th>\n",
       "      <td>37.585011</td>\n",
       "      <td>49.613499</td>\n",
       "      <td>71.033997</td>\n",
       "    </tr>\n",
       "    <tr>\n",
       "      <th>...</th>\n",
       "      <td>...</td>\n",
       "      <td>...</td>\n",
       "      <td>...</td>\n",
       "    </tr>\n",
       "    <tr>\n",
       "      <th>2022-07-25</th>\n",
       "      <td>152.949997</td>\n",
       "      <td>121.139999</td>\n",
       "      <td>805.299988</td>\n",
       "    </tr>\n",
       "    <tr>\n",
       "      <th>2022-07-26</th>\n",
       "      <td>151.600006</td>\n",
       "      <td>114.809998</td>\n",
       "      <td>776.580017</td>\n",
       "    </tr>\n",
       "    <tr>\n",
       "      <th>2022-07-27</th>\n",
       "      <td>156.789993</td>\n",
       "      <td>120.970001</td>\n",
       "      <td>824.460022</td>\n",
       "    </tr>\n",
       "    <tr>\n",
       "      <th>2022-07-28</th>\n",
       "      <td>157.350006</td>\n",
       "      <td>122.279999</td>\n",
       "      <td>842.700012</td>\n",
       "    </tr>\n",
       "    <tr>\n",
       "      <th>2022-07-29</th>\n",
       "      <td>162.509995</td>\n",
       "      <td>134.949997</td>\n",
       "      <td>891.450012</td>\n",
       "    </tr>\n",
       "  </tbody>\n",
       "</table>\n",
       "<p>1258 rows × 3 columns</p>\n",
       "</div>"
      ],
      "text/plain": [
       "                  AAPL        AMZN        TSLA\n",
       "Date                                          \n",
       "2017-08-01   35.511818   49.809502   63.914001\n",
       "2017-08-02   37.189774   49.794498   65.178001\n",
       "2017-08-03   36.818211   49.346001   69.417999\n",
       "2017-08-04   37.012287   49.379002   71.382004\n",
       "2017-08-07   37.585011   49.613499   71.033997\n",
       "...                ...         ...         ...\n",
       "2022-07-25  152.949997  121.139999  805.299988\n",
       "2022-07-26  151.600006  114.809998  776.580017\n",
       "2022-07-27  156.789993  120.970001  824.460022\n",
       "2022-07-28  157.350006  122.279999  842.700012\n",
       "2022-07-29  162.509995  134.949997  891.450012\n",
       "\n",
       "[1258 rows x 3 columns]"
      ]
     },
     "execution_count": 5,
     "metadata": {},
     "output_type": "execute_result"
    }
   ],
   "source": [
    "# Extract the 'Adjusted Closing Price' for each stock\n",
    "price = pd.DataFrame({ticker: data['Adj Close']\n",
    "                     for ticker, data in all_data.items() })\n",
    "price"
   ]
  },
  {
   "cell_type": "code",
   "execution_count": 6,
   "id": "2a36a584",
   "metadata": {},
   "outputs": [
    {
     "data": {
      "text/plain": [
       "<AxesSubplot:>"
      ]
     },
     "execution_count": 6,
     "metadata": {},
     "output_type": "execute_result"
    },
    {
     "data": {
      "image/png": "[encoded data removed]",
      "text/plain": [
       "<Figure size 432x288 with 1 Axes>"
      ]
     },
     "metadata": {
      "needs_background": "light"
     },
     "output_type": "display_data"
    }
   ],
   "source": [
    "#  Try different attributes such price.boxplot(), price.mean(), etc.\n",
    "price.boxplot()"
   ]
  },
  {
   "cell_type": "code",
   "execution_count": 7,
   "id": "93cde6dd",
   "metadata": {},
   "outputs": [
    {
     "data": {
      "text/plain": [
       "AAPL     87.679781\n",
       "AMZN    114.804856\n",
       "TSLA    342.278233\n",
       "dtype: float64"
      ]
     },
     "execution_count": 7,
     "metadata": {},
     "output_type": "execute_result"
    }
   ],
   "source": [
    "price.mean()"
   ]
  },
  {
   "cell_type": "code",
   "execution_count": 8,
   "id": "0129de45",
   "metadata": {},
   "outputs": [
    {
     "data": {
      "text/plain": [
       "AAPL     68.624603\n",
       "AMZN     98.537498\n",
       "TSLA    102.785000\n",
       "dtype: float64"
      ]
     },
     "execution_count": 8,
     "metadata": {},
     "output_type": "execute_result"
    }
   ],
   "source": [
    "price.median()"
   ]
  },
  {
   "cell_type": "code",
   "execution_count": 9,
   "id": "8446f215",
   "metadata": {},
   "outputs": [
    {
     "data": {
      "text/plain": [
       "AAPL     46.245803\n",
       "AMZN     39.889709\n",
       "TSLA    348.079008\n",
       "dtype: float64"
      ]
     },
     "execution_count": 9,
     "metadata": {},
     "output_type": "execute_result"
    }
   ],
   "source": [
    "price.std()"
   ]
  },
  {
   "cell_type": "code",
   "execution_count": 10,
   "id": "f3183f45",
   "metadata": {},
   "outputs": [
    {
     "data": {
      "text/html": [
       "<div>\n",
       "<style scoped>\n",
       "    .dataframe tbody tr th:only-of-type {\n",
       "        vertical-align: middle;\n",
       "    }\n",
       "\n",
       "    .dataframe tbody tr th {\n",
       "        vertical-align: top;\n",
       "    }\n",
       "\n",
       "    .dataframe thead th {\n",
       "        text-align: right;\n",
       "    }\n",
       "</style>\n",
       "<table border=\"1\" class=\"dataframe\">\n",
       "  <thead>\n",
       "    <tr style=\"text-align: right;\">\n",
       "      <th></th>\n",
       "      <th>AAPL</th>\n",
       "      <th>AMZN</th>\n",
       "      <th>TSLA</th>\n",
       "    </tr>\n",
       "    <tr>\n",
       "      <th>Date</th>\n",
       "      <th></th>\n",
       "      <th></th>\n",
       "      <th></th>\n",
       "    </tr>\n",
       "  </thead>\n",
       "  <tbody>\n",
       "    <tr>\n",
       "      <th>2017-08-01</th>\n",
       "      <td>141474400.0</td>\n",
       "      <td>91452000.0</td>\n",
       "      <td>41515500.0</td>\n",
       "    </tr>\n",
       "    <tr>\n",
       "      <th>2017-08-02</th>\n",
       "      <td>279747200.0</td>\n",
       "      <td>81400000.0</td>\n",
       "      <td>65457500.0</td>\n",
       "    </tr>\n",
       "    <tr>\n",
       "      <th>2017-08-03</th>\n",
       "      <td>108389200.0</td>\n",
       "      <td>65116000.0</td>\n",
       "      <td>67675000.0</td>\n",
       "    </tr>\n",
       "    <tr>\n",
       "      <th>2017-08-04</th>\n",
       "      <td>82239600.0</td>\n",
       "      <td>54606000.0</td>\n",
       "      <td>46344500.0</td>\n",
       "    </tr>\n",
       "    <tr>\n",
       "      <th>2017-08-07</th>\n",
       "      <td>87481200.0</td>\n",
       "      <td>53532000.0</td>\n",
       "      <td>31622500.0</td>\n",
       "    </tr>\n",
       "    <tr>\n",
       "      <th>...</th>\n",
       "      <td>...</td>\n",
       "      <td>...</td>\n",
       "      <td>...</td>\n",
       "    </tr>\n",
       "    <tr>\n",
       "      <th>2022-07-25</th>\n",
       "      <td>53623900.0</td>\n",
       "      <td>50221300.0</td>\n",
       "      <td>21357800.0</td>\n",
       "    </tr>\n",
       "    <tr>\n",
       "      <th>2022-07-26</th>\n",
       "      <td>55138700.0</td>\n",
       "      <td>67075100.0</td>\n",
       "      <td>22273600.0</td>\n",
       "    </tr>\n",
       "    <tr>\n",
       "      <th>2022-07-27</th>\n",
       "      <td>78620700.0</td>\n",
       "      <td>61582000.0</td>\n",
       "      <td>29370000.0</td>\n",
       "    </tr>\n",
       "    <tr>\n",
       "      <th>2022-07-28</th>\n",
       "      <td>81378700.0</td>\n",
       "      <td>82245500.0</td>\n",
       "      <td>28241000.0</td>\n",
       "    </tr>\n",
       "    <tr>\n",
       "      <th>2022-07-29</th>\n",
       "      <td>101689200.0</td>\n",
       "      <td>148715600.0</td>\n",
       "      <td>31699000.0</td>\n",
       "    </tr>\n",
       "  </tbody>\n",
       "</table>\n",
       "<p>1258 rows × 3 columns</p>\n",
       "</div>"
      ],
      "text/plain": [
       "                   AAPL         AMZN        TSLA\n",
       "Date                                            \n",
       "2017-08-01  141474400.0   91452000.0  41515500.0\n",
       "2017-08-02  279747200.0   81400000.0  65457500.0\n",
       "2017-08-03  108389200.0   65116000.0  67675000.0\n",
       "2017-08-04   82239600.0   54606000.0  46344500.0\n",
       "2017-08-07   87481200.0   53532000.0  31622500.0\n",
       "...                 ...          ...         ...\n",
       "2022-07-25   53623900.0   50221300.0  21357800.0\n",
       "2022-07-26   55138700.0   67075100.0  22273600.0\n",
       "2022-07-27   78620700.0   61582000.0  29370000.0\n",
       "2022-07-28   81378700.0   82245500.0  28241000.0\n",
       "2022-07-29  101689200.0  148715600.0  31699000.0\n",
       "\n",
       "[1258 rows x 3 columns]"
      ]
     },
     "execution_count": 10,
     "metadata": {},
     "output_type": "execute_result"
    }
   ],
   "source": [
    "# Extract the Volume\n",
    "volume = pd.DataFrame({ticker: data['Volume']\n",
    "                     for ticker, data in all_data.items() })\n",
    "volume"
   ]
  },
  {
   "cell_type": "code",
   "execution_count": 11,
   "id": "592ffff8",
   "metadata": {},
   "outputs": [],
   "source": [
    "#  Try different attributes such volume.boxplot(), volume.mean(), etc."
   ]
  },
  {
   "cell_type": "code",
   "execution_count": 12,
   "id": "225d3735",
   "metadata": {},
   "outputs": [
    {
     "data": {
      "text/plain": [
       "<AxesSubplot:>"
      ]
     },
     "execution_count": 12,
     "metadata": {},
     "output_type": "execute_result"
    },
    {
     "data": {
      "image/png": "[encoded data removed]",
      "text/plain": [
       "<Figure size 432x288 with 1 Axes>"
      ]
     },
     "metadata": {
      "needs_background": "light"
     },
     "output_type": "display_data"
    }
   ],
   "source": [
    "volume.boxplot()"
   ]
  },
  {
   "cell_type": "code",
   "execution_count": 13,
   "id": "2fdb1b57",
   "metadata": {},
   "outputs": [
    {
     "data": {
      "text/plain": [
       "AAPL    1.193949e+08\n",
       "AMZN    8.636556e+07\n",
       "TSLA    4.415033e+07\n",
       "dtype: float64"
      ]
     },
     "execution_count": 13,
     "metadata": {},
     "output_type": "execute_result"
    }
   ],
   "source": [
    "volume.mean()"
   ]
  },
  {
   "cell_type": "code",
   "execution_count": 14,
   "id": "3b54d85f",
   "metadata": {},
   "outputs": [
    {
     "data": {
      "text/plain": [
       "AAPL    104897600.0\n",
       "AMZN     74840000.0\n",
       "TSLA     34239650.0\n",
       "dtype: float64"
      ]
     },
     "execution_count": 14,
     "metadata": {},
     "output_type": "execute_result"
    }
   ],
   "source": [
    "volume.median()"
   ]
  },
  {
   "cell_type": "code",
   "execution_count": 15,
   "id": "ae23d44d",
   "metadata": {},
   "outputs": [
    {
     "data": {
      "text/plain": [
       "AAPL    5.514711e+07\n",
       "AMZN    4.103503e+07\n",
       "TSLA    3.006163e+07\n",
       "dtype: float64"
      ]
     },
     "execution_count": 15,
     "metadata": {},
     "output_type": "execute_result"
    }
   ],
   "source": [
    "volume.std()"
   ]
  },
  {
   "cell_type": "markdown",
   "id": "c72ca21c",
   "metadata": {},
   "source": [
    "To convert stock prices to returns, we can use the formula: $$Return = \\frac{S_t - S_{t-1}}{S_{t-1}}.$$\n",
    "However, since want to compute log-returns, we will use the formula $$\\log(Return) =  \\log\\left(\\frac{S_t}{S_{t-1}}\\right).$$"
   ]
  },
  {
   "cell_type": "code",
   "execution_count": 16,
   "id": "df3e89ce",
   "metadata": {},
   "outputs": [
    {
     "data": {
      "text/plain": [
       "Date\n",
       "2017-08-01         NaN\n",
       "2017-08-02    1.047251\n",
       "2017-08-03    0.990009\n",
       "2017-08-04    1.005271\n",
       "2017-08-07    1.015474\n",
       "                ...   \n",
       "2022-07-25    0.992602\n",
       "2022-07-26    0.991174\n",
       "2022-07-27    1.034235\n",
       "2022-07-28    1.003572\n",
       "2022-07-29    1.032793\n",
       "Name: AAPL, Length: 1258, dtype: float64"
      ]
     },
     "execution_count": 16,
     "metadata": {},
     "output_type": "execute_result"
    }
   ],
   "source": [
    "# We need to import numpy to have access to cetain  mathematical operations such as the log function\n",
    "import numpy as np\n",
    "price['AAPL']/price['AAPL'].shift(1)"
   ]
  },
  {
   "cell_type": "code",
   "execution_count": 17,
   "id": "f9831620",
   "metadata": {},
   "outputs": [],
   "source": [
    "# Compute daily log returns for AAPL\n",
    "log_returns_AAPL = np.log(price['AAPL']/price['AAPL'].shift(1))\n"
   ]
  },
  {
   "cell_type": "code",
   "execution_count": 18,
   "id": "1418091b",
   "metadata": {},
   "outputs": [],
   "source": [
    "# Compute daily log returns for AMZN\n",
    "log_returns_AMZN = np.log(price['AMZN']/price['AMZN'].shift(1))"
   ]
  },
  {
   "cell_type": "code",
   "execution_count": 19,
   "id": "c345a883",
   "metadata": {},
   "outputs": [
    {
     "data": {
      "text/plain": [
       "array([[1.        , 0.96533975],\n",
       "       [0.96533975, 1.        ]])"
      ]
     },
     "execution_count": 19,
     "metadata": {},
     "output_type": "execute_result"
    }
   ],
   "source": [
    "# Find the correlation between the two stock prices. What does the estimated value suggest?\n",
    "np.corrcoef(price['TSLA'], price['AAPL'])"
   ]
  },
  {
   "cell_type": "markdown",
   "id": "6403547f",
   "metadata": {},
   "source": [
    "We can plot the Efficient Frontier portfolios made up of these two stocks. The code below is from [F. Neves (2018)](https://towardsdatascience.com/python-markowitz-optimization-b5e1623060f5)."
   ]
  },
  {
   "cell_type": "code",
   "execution_count": 20,
   "id": "0b751f36",
   "metadata": {},
   "outputs": [
    {
     "data": {
      "text/plain": [
       "AAPL    0.001210\n",
       "AMZN    0.000793\n",
       "TSLA    0.002097\n",
       "dtype: float64"
      ]
     },
     "execution_count": 20,
     "metadata": {},
     "output_type": "execute_result"
    }
   ],
   "source": [
    "# Combine the prices into one variable.\n",
    "stocks =   pd.concat([price['AAPL'], price['AMZN'], price['TSLA']],axis = 1)\n",
    "\n",
    "# Compute the log-returns\n",
    "log_ret = np.log(stocks/stocks.shift(1))\n",
    "log_ret.mean()\n"
   ]
  },
  {
   "cell_type": "code",
   "execution_count": 21,
   "id": "9668b82f",
   "metadata": {},
   "outputs": [],
   "source": [
    "from tkinter import W\n",
    "import numpy as np\n",
    "np.random.seed(42)\n",
    "num_ports = 6000\n",
    "num_stocks = 3\n",
    "all_weights = np.zeros((num_ports, len(stocks.columns)))\n",
    "ret_arr = np.zeros(num_ports)\n",
    "vol_arr = np.zeros(num_ports)\n",
    "sharpe_arr = np.zeros(num_ports)\n",
    "\n",
    "for x in range(num_ports):\n",
    "    # Weights\n",
    "    weights = np.array(np.random.random(num_stocks))\n",
    "    weights = weights/np.sum(weights)\n",
    "\n",
    "    \n",
    "    # Save weights\n",
    "    all_weights[x,:] = weights\n",
    "    # Expected return\n",
    "    ret_arr[x] = np.sum( (log_ret.mean() * weights * 252))\n",
    "    \n",
    "    # Expected volatility\n",
    "\n",
    "    vol_arr[x] = np.sqrt(np.dot(weights.T, np.dot(log_ret.cov()*252, weights)))\n",
    "    \n",
    "    # Sharpe Ratio\n",
    "    sharpe_arr[x] = ret_arr[x]/vol_arr[x]\n",
    "    \n",
    "\n",
    "    "
   ]
  },
  {
   "cell_type": "code",
   "execution_count": 22,
   "id": "9f2c5470",
   "metadata": {},
   "outputs": [
    {
     "name": "stdout",
     "output_type": "stream",
     "text": [
      "Max Sharpe Ratio = 1.0429334446301306\n",
      "Allocation = [0.73730335 0.00106167 0.26163498]\n",
      "Return = 0.36324349452071836\n",
      "Risk = 0.3482901966477259\n"
     ]
    }
   ],
   "source": [
    "# Print the max sharpe ratio (and it's location)\n",
    "print(\"Max Sharpe Ratio =\",sharpe_arr.max())\n",
    "print(\"Allocation =\",all_weights[sharpe_arr.argmax(),:])\n",
    "print(\"Return =\",ret_arr[sharpe_arr.argmax()])\n",
    "print(\"Risk =\",vol_arr[sharpe_arr.argmax()])\n",
    "\n",
    "\n",
    "#  Print the weights for AAPL and  AMZN respectively"
   ]
  },
  {
   "cell_type": "code",
   "execution_count": 23,
   "id": "cd833fd3",
   "metadata": {},
   "outputs": [
    {
     "ename": "NameError",
     "evalue": "name 'max_sr_vol' is not defined",
     "output_type": "error",
     "traceback": [
      "\u001b[0;31m---------------------------------------------------------------------------\u001b[0m",
      "\u001b[0;31mNameError\u001b[0m                                 Traceback (most recent call last)",
      "\u001b[1;32m/Users/thavas/Documents/UCLA/Project2/Lecture3_4_Examples.ipynb Cell 29\u001b[0m in \u001b[0;36m<cell line: 7>\u001b[0;34m()\u001b[0m\n\u001b[1;32m      <a href='vscode-notebook-cell:/Users/thavas/Documents/UCLA/Project2/Lecture3_4_Examples.ipynb#ch0000028?line=4'>5</a>\u001b[0m plt\u001b[39m.\u001b[39mxlabel(\u001b[39m'\u001b[39m\u001b[39mVolatility\u001b[39m\u001b[39m'\u001b[39m)\n\u001b[1;32m      <a href='vscode-notebook-cell:/Users/thavas/Documents/UCLA/Project2/Lecture3_4_Examples.ipynb#ch0000028?line=5'>6</a>\u001b[0m plt\u001b[39m.\u001b[39mylabel(\u001b[39m'\u001b[39m\u001b[39mReturn\u001b[39m\u001b[39m'\u001b[39m)\n\u001b[0;32m----> <a href='vscode-notebook-cell:/Users/thavas/Documents/UCLA/Project2/Lecture3_4_Examples.ipynb#ch0000028?line=6'>7</a>\u001b[0m plt\u001b[39m.\u001b[39mscatter(max_sr_vol, max_sr_ret,c\u001b[39m=\u001b[39m\u001b[39m'\u001b[39m\u001b[39mred\u001b[39m\u001b[39m'\u001b[39m, s\u001b[39m=\u001b[39m\u001b[39m50\u001b[39m) \u001b[39m# red dot\u001b[39;00m\n\u001b[1;32m      <a href='vscode-notebook-cell:/Users/thavas/Documents/UCLA/Project2/Lecture3_4_Examples.ipynb#ch0000028?line=7'>8</a>\u001b[0m plt\u001b[39m.\u001b[39mshow()\n",
      "\u001b[0;31mNameError\u001b[0m: name 'max_sr_vol' is not defined"
     ]
    },
    {
     "data": {
      "image/png": "[encoded data removed]",
      "text/plain": [
       "<Figure size 864x576 with 2 Axes>"
      ]
     },
     "metadata": {
      "needs_background": "light"
     },
     "output_type": "display_data"
    }
   ],
   "source": [
    "import matplotlib.pyplot as plt\n",
    "plt.figure(figsize=(12,8))\n",
    "plt.scatter(vol_arr, ret_arr, c=sharpe_arr, cmap='viridis')\n",
    "plt.colorbar(label='Sharpe Ratio')\n",
    "plt.xlabel('Volatility')\n",
    "plt.ylabel('Return')\n",
    "plt.scatter(max_sr_vol, max_sr_ret,c='red', s=50) # red dot\n",
    "plt.show()"
   ]
  },
  {
   "cell_type": "markdown",
   "id": "1c255e3e",
   "metadata": {},
   "source": [
    "In the previous example, we did not impose any constraints such as making sure the weights add up to 1 and are restricted to the (0, 1) interval. Below, we therefore, optimize the estimated weights."
   ]
  },
  {
   "cell_type": "code",
   "execution_count": null,
   "id": "961c8f2b",
   "metadata": {},
   "outputs": [],
   "source": [
    "def get_ret_vol_sr(weights):\n",
    "    weights = np.array(weights)\n",
    "    ret = np.sum(log_ret.mean() * weights) * 252\n",
    "    vol = np.sqrt(np.dot(weights.T, np.dot(log_ret.cov()*252, weights)))\n",
    "    sr = ret/vol\n",
    "    return np.array([ret, vol, sr])\n",
    "\n",
    "def neg_sharpe(weights):\n",
    "# the number 2 is the sharpe ratio index from the get_ret_vol_sr\n",
    "    return get_ret_vol_sr(weights)[2] * -1\n",
    "\n",
    "def check_sum(weights):\n",
    "    #return 0 if sum of the weights is 1\n",
    "    return np.sum(weights)-1"
   ]
  },
  {
   "cell_type": "code",
   "execution_count": null,
   "id": "06b27b80",
   "metadata": {},
   "outputs": [],
   "source": [
    "cons =  ({'type':'eq','fun':check_sum})\n",
    "bounds = ((0,1),(0,1))\n",
    "init_guess = [0.33, 0.33]"
   ]
  },
  {
   "cell_type": "code",
   "execution_count": null,
   "id": "9fdf0b31",
   "metadata": {},
   "outputs": [
    {
     "ename": "ValueError",
     "evalue": "operands could not be broadcast together with shapes (3,) (2,) ",
     "output_type": "error",
     "traceback": [
      "\u001b[0;31m---------------------------------------------------------------------------\u001b[0m",
      "\u001b[0;31mValueError\u001b[0m                                Traceback (most recent call last)",
      "\u001b[1;32m/Users/thavas/Documents/UCLA/Project2/Lecture3_4_Examples.ipynb Cell 33\u001b[0m in \u001b[0;36m<cell line: 2>\u001b[0;34m()\u001b[0m\n\u001b[1;32m      <a href='vscode-notebook-cell:/Users/thavas/Documents/UCLA/Project2/Lecture3_4_Examples.ipynb#ch0000032?line=0'>1</a>\u001b[0m \u001b[39mfrom\u001b[39;00m \u001b[39mscipy\u001b[39;00m\u001b[39m.\u001b[39;00m\u001b[39moptimize\u001b[39;00m \u001b[39mimport\u001b[39;00m minimize\n\u001b[0;32m----> <a href='vscode-notebook-cell:/Users/thavas/Documents/UCLA/Project2/Lecture3_4_Examples.ipynb#ch0000032?line=1'>2</a>\u001b[0m opt_results  \u001b[39m=\u001b[39m minimize(neg_sharpe , init_guess, method \u001b[39m=\u001b[39;49m \u001b[39m'\u001b[39;49m\u001b[39mSLSQP\u001b[39;49m\u001b[39m'\u001b[39;49m,bounds \u001b[39m=\u001b[39;49m bounds, constraints \u001b[39m=\u001b[39;49mcons)\n",
      "File \u001b[0;32m/Library/Frameworks/Python.framework/Versions/3.9/lib/python3.9/site-packages/scipy/optimize/_minimize.py:631\u001b[0m, in \u001b[0;36mminimize\u001b[0;34m(fun, x0, args, method, jac, hess, hessp, bounds, constraints, tol, callback, options)\u001b[0m\n\u001b[1;32m    629\u001b[0m     \u001b[39mreturn\u001b[39;00m _minimize_cobyla(fun, x0, args, constraints, \u001b[39m*\u001b[39m\u001b[39m*\u001b[39moptions)\n\u001b[1;32m    630\u001b[0m \u001b[39melif\u001b[39;00m meth \u001b[39m==\u001b[39m \u001b[39m'\u001b[39m\u001b[39mslsqp\u001b[39m\u001b[39m'\u001b[39m:\n\u001b[0;32m--> 631\u001b[0m     \u001b[39mreturn\u001b[39;00m _minimize_slsqp(fun, x0, args, jac, bounds,\n\u001b[1;32m    632\u001b[0m                            constraints, callback\u001b[39m=\u001b[39;49mcallback, \u001b[39m*\u001b[39;49m\u001b[39m*\u001b[39;49moptions)\n\u001b[1;32m    633\u001b[0m \u001b[39melif\u001b[39;00m meth \u001b[39m==\u001b[39m \u001b[39m'\u001b[39m\u001b[39mtrust-constr\u001b[39m\u001b[39m'\u001b[39m:\n\u001b[1;32m    634\u001b[0m     \u001b[39mreturn\u001b[39;00m _minimize_trustregion_constr(fun, x0, args, jac, hess, hessp,\n\u001b[1;32m    635\u001b[0m                                         bounds, constraints,\n\u001b[1;32m    636\u001b[0m                                         callback\u001b[39m=\u001b[39mcallback, \u001b[39m*\u001b[39m\u001b[39m*\u001b[39moptions)\n",
      "File \u001b[0;32m/Library/Frameworks/Python.framework/Versions/3.9/lib/python3.9/site-packages/scipy/optimize/slsqp.py:375\u001b[0m, in \u001b[0;36m_minimize_slsqp\u001b[0;34m(func, x0, args, jac, bounds, constraints, maxiter, ftol, iprint, disp, eps, callback, finite_diff_rel_step, **unknown_options)\u001b[0m\n\u001b[1;32m    372\u001b[0m     xu[infbnd[:, \u001b[39m1\u001b[39m]] \u001b[39m=\u001b[39m np\u001b[39m.\u001b[39mnan\n\u001b[1;32m    374\u001b[0m \u001b[39m# ScalarFunction provides function and gradient evaluation\u001b[39;00m\n\u001b[0;32m--> 375\u001b[0m sf \u001b[39m=\u001b[39m _prepare_scalar_function(func, x, jac\u001b[39m=\u001b[39;49mjac, args\u001b[39m=\u001b[39;49margs, epsilon\u001b[39m=\u001b[39;49meps,\n\u001b[1;32m    376\u001b[0m                               finite_diff_rel_step\u001b[39m=\u001b[39;49mfinite_diff_rel_step,\n\u001b[1;32m    377\u001b[0m                               bounds\u001b[39m=\u001b[39;49mnew_bounds)\n\u001b[1;32m    378\u001b[0m \u001b[39m# gh11403 SLSQP sometimes exceeds bounds by 1 or 2 ULP, make sure this\u001b[39;00m\n\u001b[1;32m    379\u001b[0m \u001b[39m# doesn't get sent to the func/grad evaluator.\u001b[39;00m\n\u001b[1;32m    380\u001b[0m wrapped_fun \u001b[39m=\u001b[39m _clip_x_for_func(sf\u001b[39m.\u001b[39mfun, new_bounds)\n",
      "File \u001b[0;32m/Library/Frameworks/Python.framework/Versions/3.9/lib/python3.9/site-packages/scipy/optimize/optimize.py:261\u001b[0m, in \u001b[0;36m_prepare_scalar_function\u001b[0;34m(fun, x0, jac, args, bounds, epsilon, finite_diff_rel_step, hess)\u001b[0m\n\u001b[1;32m    257\u001b[0m     bounds \u001b[39m=\u001b[39m (\u001b[39m-\u001b[39mnp\u001b[39m.\u001b[39minf, np\u001b[39m.\u001b[39minf)\n\u001b[1;32m    259\u001b[0m \u001b[39m# ScalarFunction caches. Reuse of fun(x) during grad\u001b[39;00m\n\u001b[1;32m    260\u001b[0m \u001b[39m# calculation reduces overall function evaluations.\u001b[39;00m\n\u001b[0;32m--> 261\u001b[0m sf \u001b[39m=\u001b[39m ScalarFunction(fun, x0, args, grad, hess,\n\u001b[1;32m    262\u001b[0m                     finite_diff_rel_step, bounds, epsilon\u001b[39m=\u001b[39;49mepsilon)\n\u001b[1;32m    264\u001b[0m \u001b[39mreturn\u001b[39;00m sf\n",
      "File \u001b[0;32m/Library/Frameworks/Python.framework/Versions/3.9/lib/python3.9/site-packages/scipy/optimize/_differentiable_functions.py:140\u001b[0m, in \u001b[0;36mScalarFunction.__init__\u001b[0;34m(self, fun, x0, args, grad, hess, finite_diff_rel_step, finite_diff_bounds, epsilon)\u001b[0m\n\u001b[1;32m    137\u001b[0m     \u001b[39mself\u001b[39m\u001b[39m.\u001b[39mf \u001b[39m=\u001b[39m fun_wrapped(\u001b[39mself\u001b[39m\u001b[39m.\u001b[39mx)\n\u001b[1;32m    139\u001b[0m \u001b[39mself\u001b[39m\u001b[39m.\u001b[39m_update_fun_impl \u001b[39m=\u001b[39m update_fun\n\u001b[0;32m--> 140\u001b[0m \u001b[39mself\u001b[39;49m\u001b[39m.\u001b[39;49m_update_fun()\n\u001b[1;32m    142\u001b[0m \u001b[39m# Gradient evaluation\u001b[39;00m\n\u001b[1;32m    143\u001b[0m \u001b[39mif\u001b[39;00m callable(grad):\n",
      "File \u001b[0;32m/Library/Frameworks/Python.framework/Versions/3.9/lib/python3.9/site-packages/scipy/optimize/_differentiable_functions.py:233\u001b[0m, in \u001b[0;36mScalarFunction._update_fun\u001b[0;34m(self)\u001b[0m\n\u001b[1;32m    231\u001b[0m \u001b[39mdef\u001b[39;00m \u001b[39m_update_fun\u001b[39m(\u001b[39mself\u001b[39m):\n\u001b[1;32m    232\u001b[0m     \u001b[39mif\u001b[39;00m \u001b[39mnot\u001b[39;00m \u001b[39mself\u001b[39m\u001b[39m.\u001b[39mf_updated:\n\u001b[0;32m--> 233\u001b[0m         \u001b[39mself\u001b[39;49m\u001b[39m.\u001b[39;49m_update_fun_impl()\n\u001b[1;32m    234\u001b[0m         \u001b[39mself\u001b[39m\u001b[39m.\u001b[39mf_updated \u001b[39m=\u001b[39m \u001b[39mTrue\u001b[39;00m\n",
      "File \u001b[0;32m/Library/Frameworks/Python.framework/Versions/3.9/lib/python3.9/site-packages/scipy/optimize/_differentiable_functions.py:137\u001b[0m, in \u001b[0;36mScalarFunction.__init__.<locals>.update_fun\u001b[0;34m()\u001b[0m\n\u001b[1;32m    136\u001b[0m \u001b[39mdef\u001b[39;00m \u001b[39mupdate_fun\u001b[39m():\n\u001b[0;32m--> 137\u001b[0m     \u001b[39mself\u001b[39m\u001b[39m.\u001b[39mf \u001b[39m=\u001b[39m fun_wrapped(\u001b[39mself\u001b[39;49m\u001b[39m.\u001b[39;49mx)\n",
      "File \u001b[0;32m/Library/Frameworks/Python.framework/Versions/3.9/lib/python3.9/site-packages/scipy/optimize/_differentiable_functions.py:134\u001b[0m, in \u001b[0;36mScalarFunction.__init__.<locals>.fun_wrapped\u001b[0;34m(x)\u001b[0m\n\u001b[1;32m    130\u001b[0m \u001b[39mself\u001b[39m\u001b[39m.\u001b[39mnfev \u001b[39m+\u001b[39m\u001b[39m=\u001b[39m \u001b[39m1\u001b[39m\n\u001b[1;32m    131\u001b[0m \u001b[39m# Send a copy because the user may overwrite it.\u001b[39;00m\n\u001b[1;32m    132\u001b[0m \u001b[39m# Overwriting results in undefined behaviour because\u001b[39;00m\n\u001b[1;32m    133\u001b[0m \u001b[39m# fun(self.x) will change self.x, with the two no longer linked.\u001b[39;00m\n\u001b[0;32m--> 134\u001b[0m \u001b[39mreturn\u001b[39;00m fun(np\u001b[39m.\u001b[39;49mcopy(x), \u001b[39m*\u001b[39;49margs)\n",
      "\u001b[1;32m/Users/thavas/Documents/UCLA/Project2/Lecture3_4_Examples.ipynb Cell 33\u001b[0m in \u001b[0;36mneg_sharpe\u001b[0;34m(weights)\u001b[0m\n\u001b[1;32m      <a href='vscode-notebook-cell:/Users/thavas/Documents/UCLA/Project2/Lecture3_4_Examples.ipynb#ch0000032?line=7'>8</a>\u001b[0m \u001b[39mdef\u001b[39;00m \u001b[39mneg_sharpe\u001b[39m(weights):\n\u001b[1;32m      <a href='vscode-notebook-cell:/Users/thavas/Documents/UCLA/Project2/Lecture3_4_Examples.ipynb#ch0000032?line=8'>9</a>\u001b[0m \u001b[39m# the number 2 is the sharpe ratio index from the get_ret_vol_sr\u001b[39;00m\n\u001b[0;32m---> <a href='vscode-notebook-cell:/Users/thavas/Documents/UCLA/Project2/Lecture3_4_Examples.ipynb#ch0000032?line=9'>10</a>\u001b[0m     \u001b[39mreturn\u001b[39;00m get_ret_vol_sr(weights)[\u001b[39m2\u001b[39m] \u001b[39m*\u001b[39m \u001b[39m-\u001b[39m\u001b[39m1\u001b[39m\n",
      "\u001b[1;32m/Users/thavas/Documents/UCLA/Project2/Lecture3_4_Examples.ipynb Cell 33\u001b[0m in \u001b[0;36mget_ret_vol_sr\u001b[0;34m(weights)\u001b[0m\n\u001b[1;32m      <a href='vscode-notebook-cell:/Users/thavas/Documents/UCLA/Project2/Lecture3_4_Examples.ipynb#ch0000032?line=0'>1</a>\u001b[0m \u001b[39mdef\u001b[39;00m \u001b[39mget_ret_vol_sr\u001b[39m(weights):\n\u001b[1;32m      <a href='vscode-notebook-cell:/Users/thavas/Documents/UCLA/Project2/Lecture3_4_Examples.ipynb#ch0000032?line=1'>2</a>\u001b[0m     weights \u001b[39m=\u001b[39m np\u001b[39m.\u001b[39marray(weights)\n\u001b[0;32m----> <a href='vscode-notebook-cell:/Users/thavas/Documents/UCLA/Project2/Lecture3_4_Examples.ipynb#ch0000032?line=2'>3</a>\u001b[0m     ret \u001b[39m=\u001b[39m np\u001b[39m.\u001b[39msum(log_ret\u001b[39m.\u001b[39;49mmean() \u001b[39m*\u001b[39;49m weights) \u001b[39m*\u001b[39m \u001b[39m252\u001b[39m\n\u001b[1;32m      <a href='vscode-notebook-cell:/Users/thavas/Documents/UCLA/Project2/Lecture3_4_Examples.ipynb#ch0000032?line=3'>4</a>\u001b[0m     vol \u001b[39m=\u001b[39m np\u001b[39m.\u001b[39msqrt(np\u001b[39m.\u001b[39mdot(weights\u001b[39m.\u001b[39mT, np\u001b[39m.\u001b[39mdot(log_ret\u001b[39m.\u001b[39mcov()\u001b[39m*\u001b[39m\u001b[39m252\u001b[39m, weights)))\n\u001b[1;32m      <a href='vscode-notebook-cell:/Users/thavas/Documents/UCLA/Project2/Lecture3_4_Examples.ipynb#ch0000032?line=4'>5</a>\u001b[0m     sr \u001b[39m=\u001b[39m ret\u001b[39m/\u001b[39mvol\n",
      "File \u001b[0;32m/Library/Frameworks/Python.framework/Versions/3.9/lib/python3.9/site-packages/pandas/core/ops/common.py:70\u001b[0m, in \u001b[0;36m_unpack_zerodim_and_defer.<locals>.new_method\u001b[0;34m(self, other)\u001b[0m\n\u001b[1;32m     66\u001b[0m             \u001b[39mreturn\u001b[39;00m \u001b[39mNotImplemented\u001b[39m\n\u001b[1;32m     68\u001b[0m other \u001b[39m=\u001b[39m item_from_zerodim(other)\n\u001b[0;32m---> 70\u001b[0m \u001b[39mreturn\u001b[39;00m method(\u001b[39mself\u001b[39;49m, other)\n",
      "File \u001b[0;32m/Library/Frameworks/Python.framework/Versions/3.9/lib/python3.9/site-packages/pandas/core/arraylike.py:116\u001b[0m, in \u001b[0;36mOpsMixin.__mul__\u001b[0;34m(self, other)\u001b[0m\n\u001b[1;32m    114\u001b[0m \u001b[39m@unpack_zerodim_and_defer\u001b[39m(\u001b[39m\"\u001b[39m\u001b[39m__mul__\u001b[39m\u001b[39m\"\u001b[39m)\n\u001b[1;32m    115\u001b[0m \u001b[39mdef\u001b[39;00m \u001b[39m__mul__\u001b[39m(\u001b[39mself\u001b[39m, other):\n\u001b[0;32m--> 116\u001b[0m     \u001b[39mreturn\u001b[39;00m \u001b[39mself\u001b[39;49m\u001b[39m.\u001b[39;49m_arith_method(other, operator\u001b[39m.\u001b[39;49mmul)\n",
      "File \u001b[0;32m/Library/Frameworks/Python.framework/Versions/3.9/lib/python3.9/site-packages/pandas/core/series.py:5639\u001b[0m, in \u001b[0;36mSeries._arith_method\u001b[0;34m(self, other, op)\u001b[0m\n\u001b[1;32m   5637\u001b[0m \u001b[39mdef\u001b[39;00m \u001b[39m_arith_method\u001b[39m(\u001b[39mself\u001b[39m, other, op):\n\u001b[1;32m   5638\u001b[0m     \u001b[39mself\u001b[39m, other \u001b[39m=\u001b[39m ops\u001b[39m.\u001b[39malign_method_SERIES(\u001b[39mself\u001b[39m, other)\n\u001b[0;32m-> 5639\u001b[0m     \u001b[39mreturn\u001b[39;00m base\u001b[39m.\u001b[39;49mIndexOpsMixin\u001b[39m.\u001b[39;49m_arith_method(\u001b[39mself\u001b[39;49m, other, op)\n",
      "File \u001b[0;32m/Library/Frameworks/Python.framework/Versions/3.9/lib/python3.9/site-packages/pandas/core/base.py:1295\u001b[0m, in \u001b[0;36mIndexOpsMixin._arith_method\u001b[0;34m(self, other, op)\u001b[0m\n\u001b[1;32m   1292\u001b[0m rvalues \u001b[39m=\u001b[39m ensure_wrapped_if_datetimelike(rvalues)\n\u001b[1;32m   1294\u001b[0m \u001b[39mwith\u001b[39;00m np\u001b[39m.\u001b[39merrstate(\u001b[39mall\u001b[39m\u001b[39m=\u001b[39m\u001b[39m\"\u001b[39m\u001b[39mignore\u001b[39m\u001b[39m\"\u001b[39m):\n\u001b[0;32m-> 1295\u001b[0m     result \u001b[39m=\u001b[39m ops\u001b[39m.\u001b[39;49marithmetic_op(lvalues, rvalues, op)\n\u001b[1;32m   1297\u001b[0m \u001b[39mreturn\u001b[39;00m \u001b[39mself\u001b[39m\u001b[39m.\u001b[39m_construct_result(result, name\u001b[39m=\u001b[39mres_name)\n",
      "File \u001b[0;32m/Library/Frameworks/Python.framework/Versions/3.9/lib/python3.9/site-packages/pandas/core/ops/array_ops.py:222\u001b[0m, in \u001b[0;36marithmetic_op\u001b[0;34m(left, right, op)\u001b[0m\n\u001b[1;32m    217\u001b[0m \u001b[39melse\u001b[39;00m:\n\u001b[1;32m    218\u001b[0m     \u001b[39m# TODO we should handle EAs consistently and move this check before the if/else\u001b[39;00m\n\u001b[1;32m    219\u001b[0m     \u001b[39m# (https://github.com/pandas-dev/pandas/issues/41165)\u001b[39;00m\n\u001b[1;32m    220\u001b[0m     _bool_arith_check(op, left, right)\n\u001b[0;32m--> 222\u001b[0m     res_values \u001b[39m=\u001b[39m _na_arithmetic_op(left, right, op)\n\u001b[1;32m    224\u001b[0m \u001b[39mreturn\u001b[39;00m res_values\n",
      "File \u001b[0;32m/Library/Frameworks/Python.framework/Versions/3.9/lib/python3.9/site-packages/pandas/core/ops/array_ops.py:163\u001b[0m, in \u001b[0;36m_na_arithmetic_op\u001b[0;34m(left, right, op, is_cmp)\u001b[0m\n\u001b[1;32m    160\u001b[0m     func \u001b[39m=\u001b[39m partial(expressions\u001b[39m.\u001b[39mevaluate, op)\n\u001b[1;32m    162\u001b[0m \u001b[39mtry\u001b[39;00m:\n\u001b[0;32m--> 163\u001b[0m     result \u001b[39m=\u001b[39m func(left, right)\n\u001b[1;32m    164\u001b[0m \u001b[39mexcept\u001b[39;00m \u001b[39mTypeError\u001b[39;00m:\n\u001b[1;32m    165\u001b[0m     \u001b[39mif\u001b[39;00m \u001b[39mnot\u001b[39;00m is_cmp \u001b[39mand\u001b[39;00m (is_object_dtype(left\u001b[39m.\u001b[39mdtype) \u001b[39mor\u001b[39;00m is_object_dtype(right)):\n\u001b[1;32m    166\u001b[0m         \u001b[39m# For object dtype, fallback to a masked operation (only operating\u001b[39;00m\n\u001b[1;32m    167\u001b[0m         \u001b[39m#  on the non-missing values)\u001b[39;00m\n\u001b[1;32m    168\u001b[0m         \u001b[39m# Don't do this for comparisons, as that will handle complex numbers\u001b[39;00m\n\u001b[1;32m    169\u001b[0m         \u001b[39m#  incorrectly, see GH#32047\u001b[39;00m\n",
      "File \u001b[0;32m/Library/Frameworks/Python.framework/Versions/3.9/lib/python3.9/site-packages/pandas/core/computation/expressions.py:239\u001b[0m, in \u001b[0;36mevaluate\u001b[0;34m(op, a, b, use_numexpr)\u001b[0m\n\u001b[1;32m    236\u001b[0m \u001b[39mif\u001b[39;00m op_str \u001b[39mis\u001b[39;00m \u001b[39mnot\u001b[39;00m \u001b[39mNone\u001b[39;00m:\n\u001b[1;32m    237\u001b[0m     \u001b[39mif\u001b[39;00m use_numexpr:\n\u001b[1;32m    238\u001b[0m         \u001b[39m# error: \"None\" not callable\u001b[39;00m\n\u001b[0;32m--> 239\u001b[0m         \u001b[39mreturn\u001b[39;00m _evaluate(op, op_str, a, b)  \u001b[39m# type: ignore[misc]\u001b[39;00m\n\u001b[1;32m    240\u001b[0m \u001b[39mreturn\u001b[39;00m _evaluate_standard(op, op_str, a, b)\n",
      "File \u001b[0;32m/Library/Frameworks/Python.framework/Versions/3.9/lib/python3.9/site-packages/pandas/core/computation/expressions.py:69\u001b[0m, in \u001b[0;36m_evaluate_standard\u001b[0;34m(op, op_str, a, b)\u001b[0m\n\u001b[1;32m     67\u001b[0m \u001b[39mif\u001b[39;00m _TEST_MODE:\n\u001b[1;32m     68\u001b[0m     _store_test_result(\u001b[39mFalse\u001b[39;00m)\n\u001b[0;32m---> 69\u001b[0m \u001b[39mreturn\u001b[39;00m op(a, b)\n",
      "\u001b[0;31mValueError\u001b[0m: operands could not be broadcast together with shapes (3,) (2,) "
     ]
    }
   ],
   "source": [
    "from scipy.optimize import minimize\n",
    "opt_results  = minimize(neg_sharpe , init_guess, method = 'SLSQP',bounds = bounds, constraints =cons)"
   ]
  },
  {
   "cell_type": "code",
   "execution_count": null,
   "id": "c710f11d",
   "metadata": {},
   "outputs": [
    {
     "data": {
      "text/plain": [
       "array([0.30490077, 0.32228896, 0.94604782])"
      ]
     },
     "execution_count": 43,
     "metadata": {},
     "output_type": "execute_result"
    }
   ],
   "source": [
    "get_ret_vol_sr(opt_results.x)"
   ]
  },
  {
   "cell_type": "markdown",
   "id": "f2f235ed",
   "metadata": {},
   "source": [
    "## II. Classes"
   ]
  },
  {
   "cell_type": "markdown",
   "id": "db974e82",
   "metadata": {},
   "source": [
    "1. Create a class, *Health*, that computes a person's BMI (Body Mass Index) and BMR (Basal Metabolic Rate) based on their weight (in pounds), height (in inches), age (in years), and gender (\"M\", \"F\"). Once computed, output the person's bmi, bmr and respective recommendations based on the tables below. Make sure to use the constructor (method) `\\_\\_init\\_\\_()`  \n",
    "\n",
    "**BMI Recommendations**   \n",
    "Underweight: BMI < 18.5      \n",
    "Normal: 18.5 < BMI < 24.9    \n",
    "Overweight:  25 < BMI < 29.9   \n",
    "Obese: BMI > 30  \n",
    "\n",
    "**BMR Recommendations**   \n",
    "Sedentary: little or no exercise $ = 1.2 \\times BMR$  \n",
    "Lightly Active: exercise/sports 1-3 days/week $ = 1.375 \\times BMR$  \n",
    "Moderately Active: exercise/sports 3-5 days/week $ = 1.55 \\times BMR$  \n",
    "Very Active: exercise/sports 6-7 days/week $ = 1.725 \\times BMR$  \n",
    "Extra Active: exercise daily, or physical job $ = 1.9 \\times BMR$  \n",
    "\n",
    "**Formulas**  \n",
    "You can compute the BMI and BMR as follows:  \n",
    "$BMI = \\frac{weight}{height^2}\\times 703$   \n",
    "$BMR \\;(Female) = 655 + (4.3 \\times weight) + (4.7 \\times height) - (4.7 \\times age)$  \n",
    "$BMR \\;(Male)  = 66 + (6.3 \\times weight) + (12.9 \\times height) - (6.8 \\times age)$  "
   ]
  },
  {
   "cell_type": "code",
   "execution_count": null,
   "id": "4de8ef1f",
   "metadata": {},
   "outputs": [],
   "source": [
    "class Health: \n",
    "    weight = 0\n",
    "    height = 0\n",
    "    age = 0\n",
    "    \n",
    "    def __init__(measurements, weight, height, gender, age): \n",
    "        measurements.weight = weight\n",
    "        measurements.height = height\n",
    "        measurements.gender = gender\n",
    "        measurements.age = age\n",
    "        \n",
    "    def bmi(measurements):\n",
    "        bmi_temp = (measurements.weight/(measurements.height**2))*703\n",
    "        if bmi_temp < 18.5:\n",
    "            print(f\"Based on your BMI = {bmi_temp:.2f}, you are considered Underweight\")\n",
    "        elif 18.5 < bmi_temp < 24.9:\n",
    "            print(f\"Based on your BMI = {bmi_temp:.2f}, you are considered Normal\")\n",
    "        elif 25 < bmi_temp < 29.9:\n",
    "            print(f\"Based on your BMI = {bmi_temp:.2f}, you are considered Overweight\")\n",
    "        else:    \n",
    "            print(f\"Based on your BMI = {bmi_temp:.2f}, you are considered Obese\")\n",
    "       # return (measurements.weight/(measurements.height**2))*703\n",
    "    \n",
    "    def bmr(measurements):\n",
    "        bmr_temp_M = 66 + (6.3*measurements.weight) + (12.9*measurements.height) - (6.8*measurements.age)\n",
    "        bmr_temp_F = 655 + (4.3*measurements.weight) + (4.7*measurements.height) - (4.7*measurements.age)\n",
    "        if measurements.gender == \"M\":\n",
    "            print(f\"Based on your BMR = {bmr_temp_M:.2f} here are your recommended caloric intakes per activity level:\")\n",
    "            print(f\"Sedentary: little or no exercise = {1.2*bmr_temp_M:.2f} Calories\")\n",
    "            print(f\"Lightly Active: exercise/sports 1-3 days/week = {1.375*bmr_temp_M:.2f} Calories\")\n",
    "            print(f\"Moderately Active: exercise/sports 3-5 days/week = {1.55*bmr_temp_M:.2f} Calories\")\n",
    "            print(f\"Very Active: exercise/sports 6-7 days/week = {1.725*bmr_temp_M:.2f} Calories\")\n",
    "            print(f\"Extra Active: exercise daily, or physical job = {1.9*bmr_temp_M:.2f} Calories\")\n",
    "        else:\n",
    "            print(bmr_temp_F)\n",
    "            print(f\"Based on your BMR = {bmr_temp_F:.2f}, here are your recommended caloric intakes per activity level:\")\n",
    "            print(f\"Sedentary: little or no exercise = {1.2*bmr_temp_F:.2f} Calories\")\n",
    "            print(f\"Lightly Active: exercise/sports 1-3 days/week = {1.375*bmr_temp_F:.2f} Calories\")\n",
    "            print(f\"Moderately Active: exercise/sports 3-5 days/week = {1.55*bmr_temp_F:.2f} Calories\")\n",
    "            print(f\"Very Active: exercise/sports 6-7 days/week = {1.725*bmr_temp_F:.2f} Calories\")\n",
    "            print(f\"Extra Active: exercise daily, or physical job = {1.9*bmr_temp_F:.2f} Calories\")\n",
    "       "
   ]
  },
  {
   "cell_type": "code",
   "execution_count": null,
   "id": "44545fb9",
   "metadata": {},
   "outputs": [],
   "source": [
    "vitals = Health(130, 70.8,\"F\",48)"
   ]
  },
  {
   "cell_type": "code",
   "execution_count": null,
   "id": "21a4be95",
   "metadata": {},
   "outputs": [],
   "source": [
    "vitals.bmi()"
   ]
  },
  {
   "cell_type": "code",
   "execution_count": null,
   "id": "74c4a06d",
   "metadata": {},
   "outputs": [],
   "source": [
    "vitals.bmr()"
   ]
  }
 ],
 "metadata": {
  "kernelspec": {
   "display_name": "Python 3.9.5 64-bit",
   "language": "python",
   "name": "python3"
  },
  "language_info": {
   "codemirror_mode": {
    "name": "ipython",
    "version": 3
   },
   "file_extension": ".py",
   "mimetype": "text/x-python",
   "name": "python",
   "nbconvert_exporter": "python",
   "pygments_lexer": "ipython3",
   "version": "3.9.5"
  },
  "latex_envs": {
   "LaTeX_envs_menu_present": true,
   "autoclose": false,
   "autocomplete": true,
   "bibliofile": "biblio.bib",
   "cite_by": "apalike",
   "current_citInitial": 1,
   "eqLabelWithNumbers": true,
   "eqNumInitial": 1,
   "hotkeys": {
    "equation": "Ctrl-E",
    "itemize": "Ctrl-I"
   },
   "labels_anchors": false,
   "latex_user_defs": false,
   "report_style_numbering": false,
   "user_envs_cfg": false
  },
  "varInspector": {
   "cols": {
    "lenName": 16,
    "lenType": 16,
    "lenVar": 40
   },
   "kernels_config": {
    "python": {
     "delete_cmd_postfix": "",
     "delete_cmd_prefix": "del ",
     "library": "var_list.py",
     "varRefreshCmd": "print(var_dic_list())"
    },
    "r": {
     "delete_cmd_postfix": ") ",
     "delete_cmd_prefix": "rm(",
     "library": "var_list.r",
     "varRefreshCmd": "cat(var_dic_list()) "
    }
   },
   "types_to_exclude": [
    "module",
    "function",
    "builtin_function_or_method",
    "instance",
    "_Feature"
   ],
   "window_display": false
  },
  "vscode": {
   "interpreter": {
    "hash": "aee8b7b246df8f9039afb4144a1f6fd8d2ca17a180786b69acc140d282b71a49"
   }
  }
 },
 "nbformat": 4,
 "nbformat_minor": 5
}
