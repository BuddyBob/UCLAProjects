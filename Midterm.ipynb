{
 "cells": [
  {
   "cell_type": "markdown",
   "id": "f66c4d9d",
   "metadata": {},
   "source": [
    "# Econ 10P Midterm Exam\n",
    "# Name:                 \n",
    "\n",
    "## Due on Thursday, July 28 by 6PM (PST) via  Canvas\n",
    "### Please uplaod your notebook to Canvas under the \"Assingments $\\rightarrow$ Midterm Tab\""
   ]
  },
  {
   "cell_type": "markdown",
   "id": "3ed80d6d",
   "metadata": {},
   "source": [
    "## I. Coding Problems"
   ]
  },
  {
   "cell_type": "markdown",
   "id": "2b8f8dfb",
   "metadata": {},
   "source": [
    "### 1. \n",
    "Initialize a `list` containing `B, 2.78, 5, A`, `'Hello', 'World'`. How could you:   \n",
    ">(a) Delete 5 if you knew its position? What if you didn’t know its position?     \n",
    ">(b) How can the list `[3.0, 2.0, 'Hi']` be added to the existing list?  \n",
    ">(c) How can the list be reversed?  \n",
    ">(d) In the extended list, how can you count the occurrence of 'Hello'?  "
   ]
  },
  {
   "cell_type": "code",
   "execution_count": 43,
   "id": "e5fe3bd6",
   "metadata": {},
   "outputs": [
    {
     "name": "stdout",
     "output_type": "stream",
     "text": [
      "['B', 2.78, 'A', 'Hello', 'World']\n",
      "['B', 2.78, 'A', 'Hello', 'World']\n"
     ]
    }
   ],
   "source": [
    "li = ['B', 2.78, 5, 'A', 'Hello', 'World']\n",
    "#(a)\n",
    "#known position\n",
    "li.pop(2)\n",
    "print(li)\n",
    "\n",
    "#unknown position\n",
    "li = ['B', 2.78, 5, 'A', 'Hello', 'World']\n",
    "li.remove(5)\n",
    "print(li)"
   ]
  },
  {
   "cell_type": "code",
   "execution_count": 44,
   "id": "058e63c8",
   "metadata": {},
   "outputs": [],
   "source": [
    "#(b)\n",
    "li = ['B', 2.78, 5, 'A', 'Hello', 'World']\n",
    "li2 = [3.0, 2.0, 'Hi']\n",
    "\n",
    "li.extend(li2)"
   ]
  },
  {
   "cell_type": "code",
   "execution_count": 45,
   "id": "3c490a99",
   "metadata": {},
   "outputs": [
    {
     "data": {
      "text/plain": [
       "['World', 'Hello', 'A', 5, 2.78, 'B']"
      ]
     },
     "execution_count": 45,
     "metadata": {},
     "output_type": "execute_result"
    }
   ],
   "source": [
    "#(c)\n",
    "li = ['B', 2.78, 5, 'A', 'Hello', 'World']\n",
    "li[::-1]"
   ]
  },
  {
   "cell_type": "code",
   "execution_count": 46,
   "id": "3a2b47dc",
   "metadata": {},
   "outputs": [
    {
     "name": "stdout",
     "output_type": "stream",
     "text": [
      "1\n"
     ]
    }
   ],
   "source": [
    "#(d)\n",
    "li = ['B', 2.78, 5, 'A', 'Hello', 'World']\n",
    "li2 = [3.0, 2.0, 'Hi']\n",
    "li.extend(li2)\n",
    "\n",
    "i = 0\n",
    "for elem in li:\n",
    "    if elem == 'Hello':\n",
    "        i+=1\n",
    "print(i)"
   ]
  },
  {
   "cell_type": "markdown",
   "id": "9f23b0bf",
   "metadata": {},
   "source": [
    "### 2. \n",
    "\n",
    "Construct a dictionary with the keyword-value pairs: `'A'` and `1.00`, `'B'` and `2.00`, `'C'` and `-999`.   \n",
    ">(a) How can the value of `A` be retrieved?   \n",
    ">(b) Add a new key-value pair, D = '-1000' to the dictionary.   \n",
    ">(c) Remove the key-value pair` A:1.00` from part (b).  \n",
    ">(d) Change the value of `C` to -100.  \n",
    "\n"
   ]
  },
  {
   "cell_type": "code",
   "execution_count": 47,
   "id": "b144509d",
   "metadata": {},
   "outputs": [
    {
     "data": {
      "text/plain": [
       "1.0"
      ]
     },
     "execution_count": 47,
     "metadata": {},
     "output_type": "execute_result"
    }
   ],
   "source": [
    "#(a)\n",
    "my_dict = {'A':1.00, 'B':2.00, 'C':-999}\n",
    "my_dict['A']"
   ]
  },
  {
   "cell_type": "code",
   "execution_count": 48,
   "id": "fa960ebd",
   "metadata": {},
   "outputs": [
    {
     "data": {
      "text/plain": [
       "{'A': 1.0, 'B': 2.0, 'C': -999, 'D': '-1000'}"
      ]
     },
     "execution_count": 48,
     "metadata": {},
     "output_type": "execute_result"
    }
   ],
   "source": [
    "my_dict['D'] = '-1000'\n",
    "my_dict"
   ]
  },
  {
   "cell_type": "code",
   "execution_count": 49,
   "id": "63f48e96",
   "metadata": {},
   "outputs": [
    {
     "data": {
      "text/plain": [
       "{'B': 2.0, 'C': -999, 'D': '-1000'}"
      ]
     },
     "execution_count": 49,
     "metadata": {},
     "output_type": "execute_result"
    }
   ],
   "source": [
    "del my_dict['A']\n",
    "my_dict"
   ]
  },
  {
   "cell_type": "code",
   "execution_count": 50,
   "id": "948528a4",
   "metadata": {},
   "outputs": [
    {
     "data": {
      "text/plain": [
       "{'B': 2.0, 'C': -100, 'D': '-1000'}"
      ]
     },
     "execution_count": 50,
     "metadata": {},
     "output_type": "execute_result"
    }
   ],
   "source": [
    "my_dict['C'] = -100\n",
    "my_dict"
   ]
  },
  {
   "cell_type": "markdown",
   "id": "38528d0e",
   "metadata": {},
   "source": [
    "### 3.\n",
    "Using order of operations, use parentheses to make sure the following operations evaluate to their respective answers.  \n",
    ">(a) `100/3*4%2-90//2%3/5*4+1 = 1.33`     \n",
    ">(b) `90%8%3*11/2//1*50-20*3%2+5 = 555`     \n",
    ">(c) `100/5/4%4*5 + 85//3//3%2*5 -1 = 9`  "
   ]
  },
  {
   "cell_type": "code",
   "execution_count": 80,
   "id": "383c003a",
   "metadata": {},
   "outputs": [
    {
     "name": "stdout",
     "output_type": "stream",
     "text": [
      "1.3333333333333428\n",
      "555.0\n",
      "9.0\n"
     ]
    }
   ],
   "source": [
    "a = 100/3*4%2-(90//2%3/5*(4+1))\n",
    "print(a)\n",
    "\n",
    "b = (90%8%3*11/2)//1*50-(20*3%2)+5\n",
    "print(b)\n",
    "\n",
    "c = (100/5/4)%(4*5) + (85//3//3)%2*(5-1)\n",
    "print(c)\n"
   ]
  },
  {
   "cell_type": "markdown",
   "id": "81d7852a",
   "metadata": {},
   "source": [
    "### 4.\n",
    "\n",
    "For the string, `𝑥 = 'Python 3.0 is better than 2.0'`, perform the following operations:\n",
    ">(a) extract the word 'Python'.  \n",
    ">(b) extract '2.0'.    \n",
    ">(c) find the location of the value '3.0'  \n",
    ">(d) convert all letters to upper case  "
   ]
  },
  {
   "cell_type": "code",
   "execution_count": 94,
   "id": "a02d7403",
   "metadata": {},
   "outputs": [
    {
     "data": {
      "text/plain": [
       "' 3.0 is better than 2.0'"
      ]
     },
     "execution_count": 94,
     "metadata": {},
     "output_type": "execute_result"
    }
   ],
   "source": [
    "#(a)\n",
    "x = 'Python 3.0 is better than 2.0'\n",
    "x = x.replace('Python','')\n",
    "x"
   ]
  },
  {
   "cell_type": "code",
   "execution_count": 95,
   "id": "c07538ea",
   "metadata": {},
   "outputs": [
    {
     "data": {
      "text/plain": [
       "' 3.0 is better than '"
      ]
     },
     "execution_count": 95,
     "metadata": {},
     "output_type": "execute_result"
    }
   ],
   "source": [
    "#(b)\n",
    "x = x.replace('2.0','')\n",
    "x"
   ]
  },
  {
   "cell_type": "code",
   "execution_count": 97,
   "id": "bb1ee708",
   "metadata": {},
   "outputs": [
    {
     "name": "stdout",
     "output_type": "stream",
     "text": [
      "3.0 location is: 1\n"
     ]
    }
   ],
   "source": [
    "#(c)\n",
    "print(\"3.0 location is:\", x.index('3.0'))"
   ]
  },
  {
   "cell_type": "code",
   "execution_count": null,
   "id": "72fe114a",
   "metadata": {},
   "outputs": [],
   "source": [
    "#(d)\n",
    "print(x.upper())"
   ]
  },
  {
   "cell_type": "markdown",
   "id": "7c6ed74c",
   "metadata": {},
   "source": [
    "### 5. \n",
    "Write a Python script the prompts a user to enter a number and performs the following tasks: if the number is positive, print \"The Number is Positive\", and take the square root of it, if the number is negative, print, \"The Number is Negative\", turn it into a positive number, and then take the square root of it, if the number is 0, print, \"The Number is  0\". Note you will need to import the `sqrt` function from the  `math` library as shown below.\n",
    "\n",
    "```python\n",
    "from math import sqrt\n",
    "```"
   ]
  },
  {
   "cell_type": "code",
   "execution_count": 98,
   "id": "0143952f",
   "metadata": {},
   "outputs": [
    {
     "name": "stdout",
     "output_type": "stream",
     "text": [
      "The Number is Positive\n",
      "2.23606797749979\n"
     ]
    }
   ],
   "source": [
    "from math import sqrt\n",
    "num = float(input('Enter a number: '))\n",
    "if num > 0:\n",
    "    print(\"The Number is Positive\")\n",
    "    print(sqrt(num))\n",
    "elif num < 0:\n",
    "    print(\"The Number is Negative\")\n",
    "    print(sqrt(abs(num)))\n",
    "else:\n",
    "    print(\"The Number is 0\")\n",
    "    "
   ]
  },
  {
   "cell_type": "markdown",
   "id": "c537f755",
   "metadata": {},
   "source": [
    "### 6. \n",
    "Write a `for loop` that sums up integers in the list below, and skips `None` values.\n",
    "```python\n",
    "sequence = [None, 2, 3, 6, None, 8, None, 11]\n",
    "```\n"
   ]
  },
  {
   "cell_type": "code",
   "execution_count": 99,
   "id": "81882e14",
   "metadata": {},
   "outputs": [
    {
     "name": "stdout",
     "output_type": "stream",
     "text": [
      "30\n"
     ]
    }
   ],
   "source": [
    "sequence = [None, 2, 3, 6, None, 8, None, 11]\n",
    "count = 0\n",
    "for num in sequence:\n",
    "    if num != None:\n",
    "        count += num\n",
    "print(count)"
   ]
  },
  {
   "cell_type": "markdown",
   "id": "0f38efb7",
   "metadata": {},
   "source": [
    "### 7. \n",
    "Write a `while-loop` that prints a number as long as it is an even number less than 10, but otherwise, prints it is not less than 10. For example,  your output should look like this:\n",
    "\n",
    "```python\n",
    "0 is even and less than 10\n",
    "2 is even and less than 10\n",
    ".\n",
    ".\n",
    ".\n",
    "10 is not less than 10\n",
    "```"
   ]
  },
  {
   "cell_type": "code",
   "execution_count": 103,
   "id": "3e7e504f",
   "metadata": {},
   "outputs": [
    {
     "name": "stdout",
     "output_type": "stream",
     "text": [
      "0 is even and less than 10\n",
      "1 is odd and less than 10\n",
      "2 is even and less than 10\n",
      "3 is odd and less than 10\n",
      "4 is even and less than 10\n",
      "5 is odd and less than 10\n",
      "6 is even and less than 10\n",
      "7 is odd and less than 10\n",
      "8 is even and less than 10\n",
      "9 is odd and less than 10\n",
      "10 is not less than 10\n"
     ]
    }
   ],
   "source": [
    "num = 0\n",
    "while num < 10:\n",
    "    if num % 2 == 0:\n",
    "        print(num,\"is even and less than 10\")\n",
    "    else:\n",
    "        print(num,\"is odd and less than 10\")\n",
    "    num += 1\n",
    "print(num, \"is not less than 10\")"
   ]
  },
  {
   "cell_type": "markdown",
   "id": "206c4e33",
   "metadata": {},
   "source": [
    "### 8. \n",
    "Write a function the finds the maximum of three numbers."
   ]
  },
  {
   "cell_type": "code",
   "execution_count": 104,
   "id": "0363713d",
   "metadata": {},
   "outputs": [
    {
     "name": "stdout",
     "output_type": "stream",
     "text": [
      "4\n"
     ]
    }
   ],
   "source": [
    "def max_func(x,y,z):\n",
    "    return max(x,y,z)\n",
    "print(max_func(2,4,1))\n",
    "    "
   ]
  },
  {
   "cell_type": "markdown",
   "id": "e160d633",
   "metadata": {},
   "source": [
    "### 9. \n",
    "Write a `class` that takes a real nunmber (a `float`), and returns its integer part and decimal part separately. For example, say the variable `decomp_number` references the class, then `decomp_number(3.14)` should return `interger = 3`, `decimal = 0.14`. Make sure that `interger` and  `decimal` are two `methods` of the class."
   ]
  },
  {
   "cell_type": "code",
   "execution_count": 114,
   "id": "979df786",
   "metadata": {},
   "outputs": [
    {
     "name": "stdout",
     "output_type": "stream",
     "text": [
      "integer = 3, decimal = 0.144\n"
     ]
    }
   ],
   "source": [
    "class Comp:\n",
    "    def __init__(self, num):\n",
    "        self.num = num\n",
    "    def integer(self):\n",
    "        return int(str(self.num).split('.')[0])\n",
    "    def decimal(self):\n",
    "        return \"0.\"+str(self.num).split('.')[1]\n",
    "    \n",
    "    def decomp_number(self):\n",
    "        return \"integer = \"+str(self.integer())+\", decimal = \"+str(self.decimal())\n",
    "    \n",
    "    \n",
    "\n",
    "num= float(input(\"Enter a real number: \"))\n",
    "obj = Comp(num)\n",
    "print(obj.decomp_number())\n"
   ]
  },
  {
   "cell_type": "markdown",
   "id": "0d7192ce",
   "metadata": {},
   "source": [
    "## II. Multiple Choice Questions. \n",
    "### Please select only one choice for each  question"
   ]
  },
  {
   "cell_type": "markdown",
   "id": "5713a5fe",
   "metadata": {},
   "source": [
    "### 10. \n",
    "Which Python statement should you use to declare an empty list named bucket in Python?\n",
    ">a. abucket = [\"empty\"]   \t\n",
    ">b. bucket = [] \t    \n",
    ">c. bucket = list(empty)    \t\n",
    ">d. bucket = list[] \t  "
   ]
  },
  {
   "cell_type": "markdown",
   "id": "d21b8523",
   "metadata": {},
   "source": [
    "## (B)"
   ]
  },
  {
   "cell_type": "markdown",
   "id": "4c3d7512",
   "metadata": {},
   "source": [
    "### 11.\n",
    "The following Python code creates a dictionary called marbles and then _____.\n",
    "\n",
    "```python\n",
    "marbles = {\"red\":10, \"Tiger eye\":3, \"Blue\":8, \"Green\":5}\n",
    "marbles[\"Green\"] = 6\n",
    "```\n",
    ">a. changes the value associated with the key \"Green\" to 6 \t\n",
    ">b. adds a second key-value pair with the key \"Green\" to it \t\n",
    ">c removes the \"Green\": 5 key-value pair from it \t\n",
    ">d. causes a key error to occur \t\n"
   ]
  },
  {
   "cell_type": "markdown",
   "id": "87d1d13b",
   "metadata": {},
   "source": [
    "## (A)"
   ]
  },
  {
   "cell_type": "markdown",
   "id": "f7291e72",
   "metadata": {},
   "source": [
    "### 12.\n",
    "Which Python statement should you place in the blank if you want to remove the entry with the key \"Orange\" from the marbles data structure?\n",
    "```python\n",
    "marbles = {\"red\":10, \"Tiger eye\":3, \"Blue\":8, \"Orange\":4, \"Green\":5}\n",
    "```\n",
    " \t\n",
    ">a. marbles.delete(3) \t\n",
    ">b. marbles.pop(\"Orange\") \t\n",
    ">c. marbles.pop(4) \t\n",
    ">d. marbles.delete(\"Orange\")"
   ]
  },
  {
   "cell_type": "markdown",
   "id": "ca05f836",
   "metadata": {},
   "source": [
    "## (B)"
   ]
  },
  {
   "cell_type": "markdown",
   "id": "5510de26",
   "metadata": {},
   "source": [
    "### 13.\n",
    "Which statement can be used to initialize a variable in Python? \t\n",
    ">a. initialize total_rings = 20    \n",
    ">b. int total_rings = 20    \n",
    ">c. 20 = total_rings \t  \n",
    ">d. total_rings = 20   "
   ]
  },
  {
   "cell_type": "markdown",
   "id": "56779ec0",
   "metadata": {},
   "source": [
    "## (D)"
   ]
  },
  {
   "cell_type": "markdown",
   "id": "42982f04",
   "metadata": {},
   "source": [
    " ### 14.\n",
    " Which statement helps to explain the difference between a variable, a constant, and a literal?\n",
    ">a. Names for variables should be descriptive, whereas constants should be identified by sequential numbers. \t\n",
    "> b. Data in a constant can be changed by the program during execution, whereas data in a variable should not be. \t\n",
    "> c. A literal is a data element, but a constant is a place in memory that holds a value that does not change. \t\n",
    "> d. Literals correspond to memory locations where data is stored, whereas constants and variables refer to the address of the memory. \t"
   ]
  },
  {
   "cell_type": "markdown",
   "id": "961dffc4",
   "metadata": {},
   "source": [
    "## (D)"
   ]
  },
  {
   "cell_type": "markdown",
   "id": "d1ac06c4",
   "metadata": {},
   "source": [
    "### 15.\n",
    "Which sentence best describes the purpose of a control structure?\n",
    ">a. A control structure contains logic that continues or ends a program loop. \t\n",
    ">b. A control structure evaluates to True or False. \t\n",
    ">c. A control structure is used to alter the sequential execution of statements in a computer program. \t\n",
    ">d. A control structure provides a named procedure that performs a specific task. \t"
   ]
  },
  {
   "cell_type": "markdown",
   "id": "d8c9760f",
   "metadata": {},
   "source": [
    "## (C)"
   ]
  }
 ],
 "metadata": {
  "kernelspec": {
   "display_name": "Python 3.10.0 64-bit",
   "language": "python",
   "name": "python3"
  },
  "language_info": {
   "codemirror_mode": {
    "name": "ipython",
    "version": 3
   },
   "file_extension": ".py",
   "mimetype": "text/x-python",
   "name": "python",
   "nbconvert_exporter": "python",
   "pygments_lexer": "ipython3",
   "version": "3.10.0"
  },
  "latex_envs": {
   "LaTeX_envs_menu_present": true,
   "autoclose": false,
   "autocomplete": true,
   "bibliofile": "biblio.bib",
   "cite_by": "apalike",
   "current_citInitial": 1,
   "eqLabelWithNumbers": true,
   "eqNumInitial": 1,
   "hotkeys": {
    "equation": "Ctrl-E",
    "itemize": "Ctrl-I"
   },
   "labels_anchors": false,
   "latex_user_defs": false,
   "report_style_numbering": false,
   "user_envs_cfg": false
  },
  "varInspector": {
   "cols": {
    "lenName": 16,
    "lenType": 16,
    "lenVar": 40
   },
   "kernels_config": {
    "python": {
     "delete_cmd_postfix": "",
     "delete_cmd_prefix": "del ",
     "library": "var_list.py",
     "varRefreshCmd": "print(var_dic_list())"
    },
    "r": {
     "delete_cmd_postfix": ") ",
     "delete_cmd_prefix": "rm(",
     "library": "var_list.r",
     "varRefreshCmd": "cat(var_dic_list()) "
    }
   },
   "types_to_exclude": [
    "module",
    "function",
    "builtin_function_or_method",
    "instance",
    "_Feature"
   ],
   "window_display": false
  },
  "vscode": {
   "interpreter": {
    "hash": "7e1998ff7f8aa20ada591c520b972326324e5ea05489af9e422744c7c09f6dad"
   }
  }
 },
 "nbformat": 4,
 "nbformat_minor": 5
}
