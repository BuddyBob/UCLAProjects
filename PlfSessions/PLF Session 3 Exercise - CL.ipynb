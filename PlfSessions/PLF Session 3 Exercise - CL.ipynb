{
 "cells": [
  {
   "cell_type": "markdown",
   "id": "42319cdd",
   "metadata": {},
   "source": [
    "# PLF Session 3\n",
    "**UCLA, Econ 10P: Introduction to Python for Economists**   \n",
    "**Lang Chen**\n",
    "## Exercise"
   ]
  },
  {
   "cell_type": "markdown",
   "id": "4d35f8eb",
   "metadata": {},
   "source": [
    "1. Given a list of numbers [1, 2, 3, 4, 5, 6, 7]. Write a program to turn every item of a list into its square.    \n",
    "Expected Output: [1, 4, 9, 16, 25, 36, 49]"
   ]
  },
  {
   "cell_type": "code",
   "execution_count": 1,
   "id": "d5420f3d",
   "metadata": {},
   "outputs": [
    {
     "data": {
      "text/plain": [
       "[1, 4, 9, 16, 25, 36, 49]"
      ]
     },
     "execution_count": 1,
     "metadata": {},
     "output_type": "execute_result"
    }
   ],
   "source": [
    "sqr = [i**2 for i in [1,2,3,4,5,6,7]]\n",
    "sqr\n",
    "    "
   ]
  },
  {
   "cell_type": "markdown",
   "id": "62c4f59a",
   "metadata": {},
   "source": [
    "2. Give a list list1 = [5, 10, 15, 20, 25, 50, 20]. Write a program to find value 20 in the list, and if it is present, replace it with 200. Only update the first occurrence of an item.   \n",
    "Expected Output: [5, 10, 15, 200, 25, 50, 20]"
   ]
  },
  {
   "cell_type": "code",
   "execution_count": 5,
   "id": "e7b06ba0",
   "metadata": {},
   "outputs": [
    {
     "name": "stdout",
     "output_type": "stream",
     "text": [
      "[5, 10, 15, 200, 25, 50, 20]\n"
     ]
    }
   ],
   "source": [
    "list1 = [5,10,15,20,25,50,20]\n",
    "for count,i in enumerate(list1):\n",
    "    if i == 20:\n",
    "        list1[count] = 200\n",
    "        break\n",
    "    \n",
    "print(list1)"
   ]
  },
  {
   "cell_type": "markdown",
   "id": "c07360aa",
   "metadata": {},
   "source": [
    "3. Given a list list1 = [5, 20, 15, 20, 25, 50, 20], write a program to remove all occurrences of item 20.   \n",
    "Expected Output:[5, 15, 25, 50]"
   ]
  },
  {
   "cell_type": "code",
   "execution_count": null,
   "id": "800a53e1",
   "metadata": {},
   "outputs": [],
   "source": []
  },
  {
   "cell_type": "markdown",
   "id": "08b21d6b",
   "metadata": {},
   "source": [
    "4. Use list comprehension to construct the following list: [99, 97, 95, ...,3, 1]"
   ]
  },
  {
   "cell_type": "code",
   "execution_count": null,
   "id": "cf0add64",
   "metadata": {},
   "outputs": [],
   "source": []
  },
  {
   "cell_type": "markdown",
   "id": "5a5f341f",
   "metadata": {},
   "source": [
    "5. Below are the two lists. Write a Python program to convert them into a dictionary in a way that item from list1 is the key and item from list2 is the value.   \n",
    "keys = ['Ten', 'Twenty', 'Thirty']   \n",
    "values = [10, 20, 30]    \n",
    "Expected output: {'Ten': 10, 'Twenty': 20, 'Thirty': 30}"
   ]
  },
  {
   "cell_type": "code",
   "execution_count": 8,
   "id": "3407c319",
   "metadata": {},
   "outputs": [
    {
     "name": "stdout",
     "output_type": "stream",
     "text": [
      "{'Ten': 10, 'Twenty': 20, 'Thirty': 30}\n"
     ]
    }
   ],
   "source": [
    "print(dict(zip(['Ten','Twenty','Thirty'],[10,20,30])))"
   ]
  }
 ],
 "metadata": {
  "kernelspec": {
   "display_name": "Python 3.10.0 64-bit",
   "language": "python",
   "name": "python3"
  },
  "language_info": {
   "codemirror_mode": {
    "name": "ipython",
    "version": 3
   },
   "file_extension": ".py",
   "mimetype": "text/x-python",
   "name": "python",
   "nbconvert_exporter": "python",
   "pygments_lexer": "ipython3",
   "version": "3.10.0"
  },
  "vscode": {
   "interpreter": {
    "hash": "7e1998ff7f8aa20ada591c520b972326324e5ea05489af9e422744c7c09f6dad"
   }
  }
 },
 "nbformat": 4,
 "nbformat_minor": 5
}
