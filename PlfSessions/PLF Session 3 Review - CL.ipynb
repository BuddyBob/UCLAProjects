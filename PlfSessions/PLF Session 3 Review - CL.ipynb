{
 "cells": [
  {
   "cell_type": "markdown",
   "id": "50d5a07a",
   "metadata": {},
   "source": [
    "# PLF Session 3\n",
    "**UCLA, Econ 10P: Introduction to Python for Economists**   \n",
    "**Lang Chen**"
   ]
  },
  {
   "cell_type": "markdown",
   "id": "d8910885",
   "metadata": {},
   "source": [
    "## Review\n",
    "### Declare an empty list\n",
    "```python\n",
    "empty_list =[]\n",
    "empty_list = list()\n",
    "```\n",
    "### Declare and initialize a list:\n",
    "```python\n",
    "numbers_list = [2, 6, 2, 3, 9, 12]\n",
    "letters_list = [\"A\", \"H\", \"C\", \"B\"]\n",
    "mixed_list = [2, 4, \"B\", 2, \"Z\"]\n",
    "mixed_list_2d = [[\"TNG\", \"DS9\", \"VOY\"], [\"Picard\", \"Sisko\", \"Janeway\"], [1, 2, 3]]\n",
    "```\n",
    "### Access by index"
   ]
  },
  {
   "cell_type": "code",
   "execution_count": 5,
   "id": "a2e716bc",
   "metadata": {},
   "outputs": [
    {
     "name": "stdout",
     "output_type": "stream",
     "text": [
      "Sisko\n",
      "Sisko\n",
      "['Picard', 'Janeway']\n",
      "['Janeway', 'Sisko', 'Picard', 'Kirk']\n",
      "hry\n"
     ]
    }
   ],
   "source": [
    "L = [\"Kirk\", \"Picard\", \"Sisko\", \"Janeway\"]\n",
    "print(L[2])\n",
    "print(L[-2])\n",
    "print(L[1::2])\n",
    "print(L[::-1])\n",
    "\n",
    "string = \"Sharky\"\n",
    "print(string[1::2])"
   ]
  },
  {
   "cell_type": "markdown",
   "id": "ef65c096",
   "metadata": {},
   "source": [
    "### Traverse a list (accessing each list element in sequence)"
   ]
  },
  {
   "cell_type": "code",
   "execution_count": 4,
   "id": "58377b17",
   "metadata": {},
   "outputs": [
    {
     "name": "stdout",
     "output_type": "stream",
     "text": [
      "0 3\n",
      "1 2\n",
      "2 9\n",
      "3 5\n",
      "4 1\n"
     ]
    }
   ],
   "source": [
    "# Index-based traversal\n",
    "# while\n",
    "numbers = [3, 2, 9, 5, 1]\n",
    "index = 0\n",
    "while index < len(numbers):\n",
    "    print(index, numbers[index])\n",
    "    index += 1"
   ]
  },
  {
   "cell_type": "code",
   "execution_count": 5,
   "id": "bd96653c",
   "metadata": {},
   "outputs": [
    {
     "name": "stdout",
     "output_type": "stream",
     "text": [
      "0 3\n",
      "1 2\n",
      "2 9\n",
      "3 5\n",
      "4 1\n"
     ]
    }
   ],
   "source": [
    "# for\n",
    "for i in range(len(numbers)):\n",
    "    print(i, numbers[i])"
   ]
  },
  {
   "cell_type": "code",
   "execution_count": 6,
   "id": "2127c67a",
   "metadata": {},
   "outputs": [
    {
     "name": "stdout",
     "output_type": "stream",
     "text": [
      "3\n",
      "2\n",
      "9\n",
      "5\n",
      "1\n"
     ]
    }
   ],
   "source": [
    "# element-based traversal\n",
    "numbers = [3, 2, 9, 5, 1]\n",
    "for element in numbers:\n",
    "    print(element)"
   ]
  },
  {
   "cell_type": "markdown",
   "id": "6cee08cf",
   "metadata": {},
   "source": [
    "### Input list elements"
   ]
  },
  {
   "cell_type": "code",
   "execution_count": 7,
   "id": "0bd5f5bf",
   "metadata": {},
   "outputs": [
    {
     "name": "stdout",
     "output_type": "stream",
     "text": [
      "Enter number 0: 1\n",
      "Enter number 1: 2\n",
      "Enter number 2: 3\n",
      "Enter number 3: 3\n",
      "Enter number 4: 4\n",
      "[1, 2, 3, 3, 4]\n"
     ]
    }
   ],
   "source": [
    "some_numbers = []\n",
    "for i in range(5):\n",
    "    number = int(input(\"Enter number \"+ str(i)+ \": \"))\n",
    "    some_numbers.append(number)\n",
    "print(some_numbers)"
   ]
  },
  {
   "cell_type": "code",
   "execution_count": 10,
   "id": "43b7e6b5",
   "metadata": {},
   "outputs": [
    {
     "name": "stdout",
     "output_type": "stream",
     "text": [
      "How many numbers do you want to enter?5\n",
      "Enter number 0: 1\n",
      "Enter number 1: 2\n",
      "Enter number 2: 3\n",
      "Enter number 3: 4\n",
      "Enter number 4: 5\n",
      "[1, 2, 3, 4, 5]\n"
     ]
    }
   ],
   "source": [
    "some_more_numbers = []\n",
    "how_many = int(input(\"How many numbers do you want to enter?\"))\n",
    "for i in range(how_many):\n",
    "    number = int(input(\"Enter number \" + str(i) + \": \"))\n",
    "    some_more_numbers.append(number)\n",
    "print(some_more_numbers)"
   ]
  },
  {
   "cell_type": "code",
   "execution_count": 11,
   "id": "55fe2e36",
   "metadata": {},
   "outputs": [
    {
     "name": "stdout",
     "output_type": "stream",
     "text": [
      "Enter numbers or -1 to quit:\n",
      "1\n",
      "2\n",
      "3\n",
      "-1\n",
      "[1, 2, 3]\n"
     ]
    }
   ],
   "source": [
    "some_numbers = []\n",
    "print(\"Enter numbers or -1 to quit:\")\n",
    "number = int(input())\n",
    "while number != -1:\n",
    "    some_numbers.append(number)\n",
    "    number = int(input())\n",
    "print(some_numbers)"
   ]
  },
  {
   "cell_type": "markdown",
   "id": "4c8cb341",
   "metadata": {},
   "source": [
    "### Change a list element"
   ]
  },
  {
   "cell_type": "code",
   "execution_count": 13,
   "id": "efdc46da",
   "metadata": {},
   "outputs": [
    {
     "data": {
      "text/plain": [
       "[6, 7, 8, 22, 10]"
      ]
     },
     "execution_count": 13,
     "metadata": {},
     "output_type": "execute_result"
    }
   ],
   "source": [
    "numbers = [6, 7, 8, 9, 10]\n",
    "numbers[3] = 22     # Changes list to [6, 7, 8, 22, 10]\n",
    "numbers"
   ]
  },
  {
   "cell_type": "code",
   "execution_count": 15,
   "id": "48b197c7",
   "metadata": {},
   "outputs": [
    {
     "data": {
      "text/plain": [
       "[7, 8, 9, 10, 11]"
      ]
     },
     "execution_count": 15,
     "metadata": {},
     "output_type": "execute_result"
    }
   ],
   "source": [
    "numbers = [6, 7, 8, 9, 10]\n",
    "for i in range(len(numbers)):\n",
    "    numbers[i] += 1\n",
    "# Changes list to [7, 8, 9, 10, 11]\n",
    "numbers"
   ]
  },
  {
   "cell_type": "markdown",
   "id": "153a85fd",
   "metadata": {},
   "source": [
    "### Other useful functions"
   ]
  },
  {
   "cell_type": "code",
   "execution_count": 16,
   "id": "e6a051ce",
   "metadata": {},
   "outputs": [
    {
     "name": "stdout",
     "output_type": "stream",
     "text": [
      "Command                L\n",
      "-----------------------------------\n",
      "L.remove('Kirk')       ['Picard', 'Sisko', 'Janeway']\n",
      "L.pop(1)               ['Picard', 'Janeway']\n",
      "L.insert(1, 'Spock')   ['Picard', 'Spock', 'Janeway']\n",
      "L.sort()               ['Janeway', 'Picard', 'Spock']\n",
      "L.reverse()            ['Spock', 'Picard', 'Janeway']\n"
     ]
    }
   ],
   "source": [
    "L = [\"Kirk\",\"Picard\", \"Sisko\", \"Janeway\"]\n",
    "\n",
    "print(\"Command                L\")\n",
    "print(\"-----------------------------------\")\n",
    "L.remove('Kirk')                             # removes first instance of 'Kirk'\n",
    "print(\"L.remove('Kirk')      \", L)\n",
    "\n",
    "L.pop(1)                                     # removes element in position 1 (Sisko)\n",
    "print(\"L.pop(1)              \", L)\n",
    "\n",
    "L.insert(1,'Spock')                          # adds 'Spock' in index 1\n",
    "print(\"L.insert(1, 'Spock')  \", L)\n",
    "\n",
    "L.sort()                                     # sorts elements (ascending)\n",
    "print(\"L.sort()              \", L)\n",
    "\n",
    "L.reverse()                                  # reverses order of elements\n",
    "print(\"L.reverse()           \", L)\n",
    "# ---"
   ]
  },
  {
   "cell_type": "markdown",
   "id": "5d3827ec",
   "metadata": {},
   "source": [
    "### List comprehension"
   ]
  },
  {
   "cell_type": "code",
   "execution_count": 20,
   "id": "e27d215d",
   "metadata": {},
   "outputs": [
    {
     "name": "stdout",
     "output_type": "stream",
     "text": [
      "[0, 1, 2, 3, 4, 5, 6, 7, 8, 9, 10, 11, 12, 13, 14, 15, 16, 17, 18, 19, 20, 21, 22, 23, 24, 25, 26, 27, 28, 29, 30, 31, 32, 33, 34, 35, 36, 37, 38, 39, 40, 41, 42, 43, 44, 45, 46, 47, 48, 49, 50, 51, 52, 53, 54, 55, 56, 57, 58, 59, 60, 61, 62, 63, 64, 65, 66, 67, 68, 69, 70, 71, 72, 73, 74, 75, 76, 77, 78, 79, 80, 81, 82, 83, 84, 85, 86, 87, 88, 89, 90, 91, 92, 93, 94, 95, 96, 97, 98, 99]\n"
     ]
    }
   ],
   "source": [
    "# To construct a list\n",
    "numbers = [i for i in range(100)]\n",
    "print(numbers)"
   ]
  },
  {
   "cell_type": "code",
   "execution_count": 18,
   "id": "30b18249",
   "metadata": {},
   "outputs": [
    {
     "name": "stdout",
     "output_type": "stream",
     "text": [
      "Manual even numbers:\n",
      "[0, 2, 4, 6, 8, 10, 12, 14, 16, 18, 20, 22, 24, 26, 28, 30, 32, 34, 36, 38, 40, 42, 44, 46, 48, 50, 52, 54, 56, 58, 60, 62, 64, 66, 68, 70, 72, 74, 76, 78, 80, 82, 84, 86, 88, 90, 92, 94, 96, 98]\n"
     ]
    }
   ],
   "source": [
    "# Control Flow\n",
    "evens = []\n",
    "for i in range(100):\n",
    "    if i % 2 == 0:\n",
    "        evens.append(i)\n",
    "print(\"Manual even numbers:\")\n",
    "print(evens)"
   ]
  },
  {
   "cell_type": "code",
   "execution_count": 19,
   "id": "8aee9041",
   "metadata": {},
   "outputs": [
    {
     "name": "stdout",
     "output_type": "stream",
     "text": [
      "List comprehension even numbers:\n",
      "[0, 2, 4, 6, 8, 10, 12, 14, 16, 18, 20, 22, 24, 26, 28, 30, 32, 34, 36, 38, 40, 42, 44, 46, 48, 50, 52, 54, 56, 58, 60, 62, 64, 66, 68, 70, 72, 74, 76, 78, 80, 82, 84, 86, 88, 90, 92, 94, 96, 98]\n"
     ]
    }
   ],
   "source": [
    "# List Comprehension\n",
    "evens_LC = [i for i in range(100) if i % 2 == 0]\n",
    "print(\"List comprehension even numbers:\")\n",
    "print(evens_LC)"
   ]
  },
  {
   "cell_type": "markdown",
   "id": "a02a51fd",
   "metadata": {},
   "source": [
    "### Two-dimensional List"
   ]
  },
  {
   "cell_type": "code",
   "execution_count": 23,
   "id": "fec16b97",
   "metadata": {},
   "outputs": [
    {
     "name": "stdout",
     "output_type": "stream",
     "text": [
      " OX\n",
      "\n",
      "OO \n",
      "\n",
      "X X\n",
      "\n"
     ]
    }
   ],
   "source": [
    "board = [[\" \", \"O\", \"X\"],\n",
    "         [\"O\", \"O\", \" \"],\n",
    "         [\"X\", \" \", \"X\"]]\n",
    "for i in range(len(board)):\n",
    "    for j in range(len(board[i])):\n",
    "        print(board[i][j], end=\"\")\n",
    "    print(\"\\n\")"
   ]
  },
  {
   "cell_type": "markdown",
   "id": "6fcaf544",
   "metadata": {},
   "source": [
    "### Dictionaries\n",
    "The keys of a dict should be immutable and distinct."
   ]
  },
  {
   "cell_type": "code",
   "execution_count": 24,
   "id": "09c0371f",
   "metadata": {},
   "outputs": [
    {
     "data": {
      "text/plain": [
       "'Sisko'"
      ]
     },
     "execution_count": 24,
     "metadata": {},
     "output_type": "execute_result"
    }
   ],
   "source": [
    "command_dict = {\n",
    "    \"Enterprise A\" : \"Kirk\",\n",
    "    \"Enterprise D\" : \"Picard\",\n",
    "    \"DS9\"          : \"Sisko\",\n",
    "    \"Voyager\"      : \"Janeway\"\n",
    "}\n",
    "# Access the value using key\n",
    "command_dict[\"DS9\"]"
   ]
  },
  {
   "cell_type": "code",
   "execution_count": 25,
   "id": "b15d4939",
   "metadata": {},
   "outputs": [
    {
     "data": {
      "text/plain": [
       "{'key1': 'value2'}"
      ]
     },
     "execution_count": 25,
     "metadata": {},
     "output_type": "execute_result"
    }
   ],
   "source": [
    "# don't duplicate keys -- keys will be dropped. \n",
    "bad_two = {\n",
    "    \"key1\" : \"value1\",\n",
    "    \"key1\" : \"value2\"\n",
    "}\n",
    "bad_two"
   ]
  },
  {
   "cell_type": "code",
   "execution_count": 26,
   "id": "04d96849",
   "metadata": {},
   "outputs": [
    {
     "data": {
      "text/plain": [
       "{'TNG': 'pretty good', 'DS9': 'the best', 'ENT': 'not great'}"
      ]
     },
     "execution_count": 26,
     "metadata": {},
     "output_type": "execute_result"
    }
   ],
   "source": [
    "d = {}\n",
    "\n",
    "d[\"TNG\"] = \"pretty good\"\n",
    "d[\"DS9\"] = \"the best\"\n",
    "d[\"ENT\"] = \"not great\"\n",
    "\n",
    "d"
   ]
  },
  {
   "cell_type": "code",
   "execution_count": 30,
   "id": "6b8d7ba5",
   "metadata": {},
   "outputs": [
    {
     "data": {
      "text/plain": [
       "dict_keys(['TNG', 'DS9', 'ENT'])"
      ]
     },
     "execution_count": 30,
     "metadata": {},
     "output_type": "execute_result"
    }
   ],
   "source": [
    "d.keys()"
   ]
  },
  {
   "cell_type": "code",
   "execution_count": 31,
   "id": "bd5eed6e",
   "metadata": {},
   "outputs": [
    {
     "data": {
      "text/plain": [
       "dict_values(['pretty good', 'the best', 'not great'])"
      ]
     },
     "execution_count": 31,
     "metadata": {},
     "output_type": "execute_result"
    }
   ],
   "source": [
    "d.values()"
   ]
  },
  {
   "cell_type": "code",
   "execution_count": 32,
   "id": "fe70b0d0",
   "metadata": {},
   "outputs": [
    {
     "name": "stdout",
     "output_type": "stream",
     "text": [
      "pretty good\n",
      "the best\n",
      "not great\n"
     ]
    }
   ],
   "source": [
    "for key in d.keys():\n",
    "    print(d[key])"
   ]
  },
  {
   "cell_type": "markdown",
   "id": "6406817d",
   "metadata": {},
   "source": [
    "### Modifying Dicts"
   ]
  },
  {
   "cell_type": "code",
   "execution_count": 36,
   "id": "0ff53e4c",
   "metadata": {},
   "outputs": [
    {
     "data": {
      "text/plain": [
       "{'TNG': 'pretty good',\n",
       " 'DS9': 'the best',\n",
       " 'TO2': 'unknown',\n",
       " 'DIS': 'new',\n",
       " 'the movies': 'bad'}"
      ]
     },
     "execution_count": 36,
     "metadata": {},
     "output_type": "execute_result"
    }
   ],
   "source": [
    "# Add an entry to a dict\n",
    "d[\"TO2\"] = 'unknown'\n",
    "d\n",
    "d.update({\"DIS\" : \"new\", \"the movies\" : \"bad\"})\n",
    "d"
   ]
  },
  {
   "cell_type": "code",
   "execution_count": 39,
   "id": "7722e92d",
   "metadata": {},
   "outputs": [
    {
     "data": {
      "text/plain": [
       "{'TNG': 'pretty good',\n",
       " 'DS9': 'the best',\n",
       " 'TO2': 'unknown',\n",
       " 'DIS': 'new',\n",
       " 'the movies': 'cringe'}"
      ]
     },
     "execution_count": 39,
     "metadata": {},
     "output_type": "execute_result"
    }
   ],
   "source": [
    "d.update({\"the movies\" : \"cringe\"})\n",
    "d"
   ]
  },
  {
   "cell_type": "code",
   "execution_count": 38,
   "id": "38ca20d5",
   "metadata": {},
   "outputs": [
    {
     "data": {
      "text/plain": [
       "{'TNG': 'pretty good', 'DS9': 'the best', 'TO2': 'unknown', 'DIS': 'new'}"
      ]
     },
     "execution_count": 38,
     "metadata": {},
     "output_type": "execute_result"
    }
   ],
   "source": [
    "d.pop(\"the movies\")\n",
    "d"
   ]
  },
  {
   "cell_type": "markdown",
   "id": "2028d856",
   "metadata": {},
   "source": [
    "### Tuples\n",
    "You can think of a tuple as an immutable list. It is ordered and cannot be changed. Tuples are denoted in Python with `()` parentheses."
   ]
  },
  {
   "cell_type": "code",
   "execution_count": 40,
   "id": "7ff3611f",
   "metadata": {},
   "outputs": [],
   "source": [
    "captains = (\"Kirk\", \"Picard\", \"Sisko\", \"Janeway\")"
   ]
  },
  {
   "cell_type": "code",
   "execution_count": 41,
   "id": "c1ca91f1",
   "metadata": {},
   "outputs": [
    {
     "data": {
      "text/plain": [
       "'Sisko'"
      ]
     },
     "execution_count": 41,
     "metadata": {},
     "output_type": "execute_result"
    }
   ],
   "source": [
    "captains[2]"
   ]
  },
  {
   "cell_type": "code",
   "execution_count": 42,
   "id": "f3e664e6",
   "metadata": {},
   "outputs": [
    {
     "ename": "TypeError",
     "evalue": "'tuple' object does not support item assignment",
     "output_type": "error",
     "traceback": [
      "\u001b[0;31m---------------------------------------------------------------------------\u001b[0m",
      "\u001b[0;31mTypeError\u001b[0m                                 Traceback (most recent call last)",
      "\u001b[0;32m<ipython-input-42-b8063a9be165>\u001b[0m in \u001b[0;36m<module>\u001b[0;34m\u001b[0m\n\u001b[0;32m----> 1\u001b[0;31m \u001b[0mcaptains\u001b[0m\u001b[0;34m[\u001b[0m\u001b[0;36m2\u001b[0m\u001b[0;34m]\u001b[0m \u001b[0;34m=\u001b[0m \u001b[0;34m\"Spock\"\u001b[0m \u001b[0;31m# error, can't change elements of a tuple\u001b[0m\u001b[0;34m\u001b[0m\u001b[0;34m\u001b[0m\u001b[0m\n\u001b[0m",
      "\u001b[0;31mTypeError\u001b[0m: 'tuple' object does not support item assignment"
     ]
    }
   ],
   "source": [
    "captains[2] = \"Spock\" # error, can't change elements of a tuple"
   ]
  },
  {
   "cell_type": "code",
   "execution_count": null,
   "id": "cb2f30b0",
   "metadata": {},
   "outputs": [],
   "source": []
  }
 ],
 "metadata": {
  "kernelspec": {
   "display_name": "Python 3.10.0 64-bit",
   "language": "python",
   "name": "python3"
  },
  "language_info": {
   "codemirror_mode": {
    "name": "ipython",
    "version": 3
   },
   "file_extension": ".py",
   "mimetype": "text/x-python",
   "name": "python",
   "nbconvert_exporter": "python",
   "pygments_lexer": "ipython3",
   "version": "3.10.0"
  },
  "vscode": {
   "interpreter": {
    "hash": "7e1998ff7f8aa20ada591c520b972326324e5ea05489af9e422744c7c09f6dad"
   }
  }
 },
 "nbformat": 4,
 "nbformat_minor": 5
}
