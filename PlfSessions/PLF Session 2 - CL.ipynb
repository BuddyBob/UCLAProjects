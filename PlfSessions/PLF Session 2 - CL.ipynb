{
 "cells": [
  {
   "cell_type": "markdown",
   "id": "e4a8a45a",
   "metadata": {},
   "source": [
    "# PLF Session 2\n",
    "**UCLA, Econ 10P: Introduction to Python for Economists**   \n",
    "**Lang Chen**"
   ]
  },
  {
   "cell_type": "markdown",
   "id": "99c258d6",
   "metadata": {},
   "source": [
    "## Exercises"
   ]
  },
  {
   "cell_type": "markdown",
   "id": "f6e1b2de",
   "metadata": {},
   "source": [
    "1. Enter the following into Python, assigning each to a unique variable name:     \n",
    "(a) 4    \n",
    "(b) 3.1415    \n",
    "(c) 1.0     \n",
    "(d) ’Hello’   \n",
    "(e) ’World’   "
   ]
  },
  {
   "cell_type": "code",
   "execution_count": null,
   "id": "fe2d2cc7",
   "metadata": {},
   "outputs": [],
   "source": [
    "num1 = 4\n",
    "float1 = 3.1415\n",
    "float2 = 1.0\n",
    "string1 = 'Hello'\n",
    "string2 = 'World'"
   ]
  },
  {
   "cell_type": "markdown",
   "id": "83558287",
   "metadata": {},
   "source": [
    "2. What is the type of each variable? Use type if you aren’t sure."
   ]
  },
  {
   "cell_type": "code",
   "execution_count": null,
   "id": "9d012d8f",
   "metadata": {},
   "outputs": [],
   "source": [
    "# Integer\n",
    "# Float\n",
    "# Float\n",
    "# String\n",
    "# String"
   ]
  },
  {
   "cell_type": "markdown",
   "id": "3f9cf662",
   "metadata": {},
   "source": [
    "3. Which of the 6 types can be:   \n",
    "    (a) Added+   \n",
    "    (b) Subtracted-  \n",
    "    (c) Multiplied*  \n",
    "    (d) Divided/   "
   ]
  },
  {
   "cell_type": "code",
   "execution_count": null,
   "id": "e79f12e5",
   "metadata": {},
   "outputs": [],
   "source": [
    "num1, float1, float2"
   ]
  },
  {
   "cell_type": "markdown",
   "id": "d7efebf7",
   "metadata": {},
   "source": [
    "4. Input the variable ex = 'Python is an interesting and useful language for numerical computing!'. Using slicing, extract:   \n",
    "(a) Python   \n",
    "(b) ! <br>\n",
    "(c) computing   \n",
    "(d) in    \n",
    "(e) !gnitupmoc laciremun rof egaugnal lufesu dna gnitseretni na si nohtyP’ (Reversed)   \n",
    "(f) nohtyP   \n",
    "(g) Pto sa neetn n sfllnug o ueia optn!   "
   ]
  },
  {
   "cell_type": "code",
   "execution_count": null,
   "id": "3e57ce61",
   "metadata": {},
   "outputs": [],
   "source": [
    "ex = \"Python is an interesting and useful language for numerical computing!\"\n",
    "a = ex[:6]\n",
    "b = ex[-1]\n",
    "c = ex[-10:-1]\n",
    "d = ex[-4:-2]\n",
    "e = ex[::-1]\n",
    "f = ex[0:6][::-1]\n",
    "g = ex[0]"
   ]
  },
  {
   "cell_type": "markdown",
   "id": "6906eb74",
   "metadata": {},
   "source": [
    "5. Write a `control flow` script that (i) asks a user to input a number, and (ii) prints the sign of the number (e.g., positive, negative, or zero). Example Output: \"-1 is a negative number.\""
   ]
  },
  {
   "cell_type": "code",
   "execution_count": null,
   "id": "ad583658",
   "metadata": {},
   "outputs": [],
   "source": [
    "num = float(input(\"Input a number: \"))\n",
    "if num > 0:\n",
    "    print(str(num)+\" is a positive number\")\n",
    "elif num < 0:\n",
    "    print(str(num)+\" is a negative number\")\n",
    "else:\n",
    "    print(str(num)+\" is zero\")  "
   ]
  },
  {
   "cell_type": "markdown",
   "id": "23cf88ec",
   "metadata": {},
   "source": [
    "6. Repeat Exercise 5. But if the number is positive, tell whether the number is larger than 5 using a nested if...else... statement."
   ]
  },
  {
   "cell_type": "code",
   "execution_count": null,
   "id": "c731de2a",
   "metadata": {},
   "outputs": [],
   "source": [
    "num = float(input(\"Input a number: \"))\n",
    "if num > 0:\n",
    "    if num > 5:\n",
    "        print(str(num)+\" is greater than 5\")\n",
    "    else:\n",
    "        print(str(num)+\" is less than 5\")\n",
    "elif num < 0:\n",
    "    print(str(num)+\" is a negative number\")\n",
    "else:\n",
    "    print(str(num)+\" is zero\")  "
   ]
  },
  {
   "cell_type": "markdown",
   "id": "e8dd006b",
   "metadata": {},
   "source": [
    "7. Sum the integers from 0 to 5 using a `for` loop. Print your result."
   ]
  },
  {
   "cell_type": "code",
   "execution_count": 18,
   "id": "ac7e8e53",
   "metadata": {},
   "outputs": [
    {
     "name": "stdout",
     "output_type": "stream",
     "text": [
      "10\n"
     ]
    }
   ],
   "source": [
    "count=0\n",
    "for i in range(0,5):\n",
    "    count += i\n",
    "print(count)"
   ]
  },
  {
   "cell_type": "markdown",
   "id": "db4a6917",
   "metadata": {},
   "source": [
    "8. Print odd number 1 to 9 using a `for` loop"
   ]
  },
  {
   "cell_type": "code",
   "execution_count": 20,
   "id": "0e413dff",
   "metadata": {},
   "outputs": [
    {
     "name": "stdout",
     "output_type": "stream",
     "text": [
      "1\n",
      "3\n",
      "5\n",
      "7\n",
      "9\n"
     ]
    }
   ],
   "source": [
    "for i in range(1,10):\n",
    "    if i % 2 != 0:\n",
    "        print(i)"
   ]
  },
  {
   "cell_type": "markdown",
   "id": "470857a6",
   "metadata": {},
   "source": [
    "9. Compare the following two blocks of code. What is the result for each of them?\n",
    "\n",
    "Example 1\n",
    "```python\n",
    "i = 1\n",
    "for i in range(10):\n",
    "    i = i*2\n",
    "i\n",
    "```\n",
    "Example 2\n",
    "```python\n",
    "j = 1\n",
    "for i in range(10):\n",
    "    j = j*2\n",
    "j\n",
    "```"
   ]
  },
  {
   "cell_type": "code",
   "execution_count": 23,
   "id": "2be54ad9",
   "metadata": {},
   "outputs": [
    {
     "data": {
      "text/plain": [
       "1024"
      ]
     },
     "execution_count": 23,
     "metadata": {},
     "output_type": "execute_result"
    }
   ],
   "source": [
    "#Example1\n",
    "10\n",
    "#Example2\n",
    "1024"
   ]
  },
  {
   "cell_type": "markdown",
   "id": "1b5233a3",
   "metadata": {},
   "source": [
    "10. Compute the monthly interest rate. Prompt the user to enter the initial deposit amount, the future value of deposit, and the duration of the deposit (in months). You can use the formula $$FV=PV(1+r)^n$$, $$\\frac{FV}{PV}=(1+r)^n$$，$$1+r = {(\\frac{FV}{PV})}^{\\frac{1}{n}}  ,$$ $$r = {(\\frac{FV}{PV})}^{\\frac{1}{n}} - 1 ,$$where $PV = $ present value of the initial deposit, $r=$ monthly rate, and $n=$ number of months. Output the result to the screen.   \n",
    "Note: You can use the function math.log(x, base). Remember to import math moudule"
   ]
  },
  {
   "cell_type": "code",
   "execution_count": 26,
   "id": "49dd5aa5",
   "metadata": {},
   "outputs": [
    {
     "name": "stdout",
     "output_type": "stream",
     "text": [
      "0.41421356237309515\n"
     ]
    }
   ],
   "source": [
    "PV = float(input(\"Input initial deposit amount: \"))\n",
    "FV = float(input(\"Input future value of deposit: \"))\n",
    "DUR = float(input(\"Input duration of deposit in months: \"))\n",
    "\n",
    "r = ((FV/PV)**(1/DUR))-1\n",
    "\n",
    "print(round(r*100,3))"
   ]
  },
  {
   "cell_type": "markdown",
   "id": "924c0972",
   "metadata": {},
   "source": [
    "## Challenge Question\n",
    "\n",
    "### (a)\n",
    "\n",
    "Create a string variable `s` such that the following works: \n",
    "\n",
    "You may need to use one or more special characters.\n",
    "\n",
    "```python\n",
    "print(s)\n",
    "```\n",
    "```\n",
    "Tired    : Doing math on your calculator. \n",
    "Wired    : Doing math in Python. \n",
    "Inspired : Training literal pythons to carry out long division using an abacus.\n",
    "```"
   ]
  },
  {
   "cell_type": "code",
   "execution_count": null,
   "id": "8e872852",
   "metadata": {},
   "outputs": [],
   "source": []
  },
  {
   "cell_type": "markdown",
   "id": "80e7d540",
   "metadata": {},
   "source": [
    "### (b)\n",
    "\n",
    "Output: \n",
    "\n",
    "```\n",
    "Tired    \n",
    "Doing math on your calculator. \n",
    "Wired    \n",
    "Doing math in Python. \n",
    "Inspired \n",
    "Training literal pythons to carry out long division using an abacus.\n",
    "\n",
    "```"
   ]
  },
  {
   "cell_type": "code",
   "execution_count": null,
   "id": "a3a7a2cc",
   "metadata": {},
   "outputs": [],
   "source": [
    "# parse the string, start a new line when encountering a \":\" and eliminating that \":\" for output "
   ]
  },
  {
   "cell_type": "markdown",
   "id": "75f4de5a",
   "metadata": {},
   "source": [
    "### (c)\n",
    "\n",
    "Output: \n",
    "\n",
    "```\n",
    "Tired\n",
    "Wired\n",
    "Inspired\n",
    "```\n",
    "\n",
    "**Hint**: look at the endings of words. A small amount of positional indexing might be handy here. "
   ]
  },
  {
   "cell_type": "code",
   "execution_count": null,
   "id": "9ab56c25",
   "metadata": {},
   "outputs": [],
   "source": [
    "# try s.split()"
   ]
  },
  {
   "cell_type": "markdown",
   "id": "f7ba660f",
   "metadata": {},
   "source": [
    "### (d)\n",
    "\n",
    "Output: \n",
    "\n",
    "```\n",
    "Tired    : Doing math on your calculator. \n",
    "Wired    : Doing math in Python. \n",
    "```"
   ]
  },
  {
   "cell_type": "code",
   "execution_count": null,
   "id": "5b084c85",
   "metadata": {},
   "outputs": [],
   "source": [
    "# parse the string, stop when encountering an \"I\""
   ]
  }
 ],
 "metadata": {
  "kernelspec": {
   "display_name": "Python 3.10.0 64-bit",
   "language": "python",
   "name": "python3"
  },
  "language_info": {
   "codemirror_mode": {
    "name": "ipython",
    "version": 3
   },
   "file_extension": ".py",
   "mimetype": "text/x-python",
   "name": "python",
   "nbconvert_exporter": "python",
   "pygments_lexer": "ipython3",
   "version": "3.10.0"
  },
  "vscode": {
   "interpreter": {
    "hash": "7e1998ff7f8aa20ada591c520b972326324e5ea05489af9e422744c7c09f6dad"
   }
  }
 },
 "nbformat": 4,
 "nbformat_minor": 5
}
